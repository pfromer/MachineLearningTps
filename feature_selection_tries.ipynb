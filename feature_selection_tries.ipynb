{
 "cells": [
  {
   "cell_type": "code",
   "execution_count": 1,
   "metadata": {},
   "outputs": [],
   "source": [
    "import pandas as pd\n",
    "import numpy as np\n",
    "import scipy as sp\n",
    "from scipy.misc import comb\n",
    "from sklearn.model_selection import train_test_split , KFold, StratifiedKFold\n",
    "import matplotlib.pyplot as plt\n",
    "from sklearn.tree import DecisionTreeClassifier\n",
    "from sklearn.neighbors import KNeighborsClassifier\n",
    "from sklearn.discriminant_analysis import LinearDiscriminantAnalysis\n",
    "from sklearn.svm import SVC\n",
    "import pdb\n",
    "from sklearn.metrics import roc_auc_score , make_scorer\n",
    "from sklearn.model_selection import GridSearchCV, RandomizedSearchCV\n",
    "#import NuestroArbol as ourTree\n",
    "import random\n",
    "from scipy.stats import randint as sp_randint\n",
    "from time import time\n",
    "import collections\n",
    "from sklearn import preprocessing\n",
    "from sklearn.feature_selection import RFECV\n",
    "from sklearn.linear_model import LogisticRegression\n",
    "from sklearn.feature_selection import SelectFromModel\n",
    "from sklearn.svm import LinearSVC\n",
    "\n",
    "\n",
    "%matplotlib inline"
   ]
  },
  {
   "cell_type": "code",
   "execution_count": null,
   "metadata": {},
   "outputs": [],
   "source": []
  },
  {
   "cell_type": "markdown",
   "metadata": {},
   "source": [
    "# Importo datos "
   ]
  },
  {
   "cell_type": "code",
   "execution_count": 2,
   "metadata": {},
   "outputs": [],
   "source": [
    "X_comp = pd.read_csv('X_competencia.csv')\n",
    "X = pd.read_csv('X.csv')\n",
    "y = pd.read_csv('y.csv')\n",
    "X.drop(['index'],inplace=True, axis=1)\n",
    "y.drop(['index'], inplace=True,axis=1)\n",
    "\n"
   ]
  },
  {
   "cell_type": "code",
   "execution_count": 3,
   "metadata": {},
   "outputs": [
    {
     "data": {
      "text/plain": [
       "5"
      ]
     },
     "execution_count": 3,
     "metadata": {},
     "output_type": "execute_result"
    }
   ],
   "source": [
    "#partimos los datos en desarrollo(87%) y holdout(13%). \n",
    "X_desarrollo , X_holdout ,y_desarrollo, y_holdout = train_test_split(X, y['output'],\n",
    "                                                                    test_size=0.13,random_state=0,stratify=y['output'])\n",
    "#pase los kfold aca arriba ya que se usan en varios lugares.\n",
    "#evaluar si esta bueno que siempre se usen los mismos folds\n",
    "kfold = StratifiedKFold(n_splits=5)\n",
    "kfold.get_n_splits(X_desarrollo,y_desarrollo)\n"
   ]
  },
  {
   "cell_type": "code",
   "execution_count": 4,
   "metadata": {},
   "outputs": [
    {
     "data": {
      "text/plain": [
       "(435, 19)"
      ]
     },
     "execution_count": 4,
     "metadata": {},
     "output_type": "execute_result"
    }
   ],
   "source": [
    "\n",
    "lsvc = LinearSVC(C=0.01, penalty=\"l2\", dual=False).fit(X_desarrollo, y_desarrollo)\n",
    "model = SelectFromModel(lsvc, prefit=True)\n",
    "X_new = model.transform(X_desarrollo)\n",
    "X_new.shape\n",
    "\n",
    "\n"
   ]
  },
  {
   "cell_type": "code",
   "execution_count": 5,
   "metadata": {},
   "outputs": [
    {
     "data": {
      "text/plain": [
       "(435, 20)"
      ]
     },
     "execution_count": 5,
     "metadata": {},
     "output_type": "execute_result"
    }
   ],
   "source": [
    "# Build a classification task using 3 informative features\n",
    "\n",
    "\n",
    "\n",
    "\n",
    "\n",
    "\n",
    "# Create the RFE object and compute a cross-validated score.\n",
    "svc = SVC(kernel=\"linear\")\n",
    "# The \"accuracy\" scoring is proportional to the number of correct\n",
    "# classifications\n",
    "rfecv = RFECV(estimator=svc, step=60, cv=kfold,\n",
    "              scoring='roc_auc')\n",
    "rfecv.fit(X_desarrollo, y_desarrollo)\n",
    "rfecv.transform(X_desarrollo).shape"
   ]
  },
  {
   "cell_type": "markdown",
   "metadata": {},
   "source": [
    "### K-fold CV "
   ]
  },
  {
   "cell_type": "code",
   "execution_count": 6,
   "metadata": {},
   "outputs": [],
   "source": [
    "def primerTablaEjercicio2(treeClasifier):\n",
    "    \n",
    "    accuracy_train=[]\n",
    "    accuracy_valildation=[]\n",
    "    ROC_AUC_train=[]\n",
    "    ROC_AUC_validation=[]\n",
    "\n",
    "    #este for itera sobre los k folds en cada loop tego un set de datos y otro de validacion\n",
    "    for train, test  in kfold.split(X_desarrollo,y_desarrollo):\n",
    "        #print(\"TRAIN:\", train_index,'\\n', \"TEST:\", test_index,'\\n' )\n",
    "        X_train, X_val = X_desarrollo.iloc[train], X_desarrollo.iloc[test]\n",
    "        y_train, y_val = y_desarrollo.iloc[train], y_desarrollo.iloc[test]\n",
    "        #intancio el arbol que voy a entrenar en cada fold\n",
    "        tree = treeClasifier(max_depth=3, criterion=\"gini\")\n",
    "\n",
    "        tree.fit(X_train, y_train.astype(int))\n",
    "        accuracy_train.append(tree.score(X=X_train, y=y_train))\n",
    "        accuracy_valildation.append(tree.score(X=X_val, y=y_val))\n",
    "        ROC_AUC_train.append(roc_auc_score(y_train,tree.predict(X_train)))\n",
    "        ROC_AUC_validation.append(roc_auc_score(y_val,tree.predict(X_val)))\n",
    "        \n",
    "    return pd.DataFrame({ 'Partición' : np.arange(1,6),'Accuracy (training)' :accuracy_train,\n",
    "                          'Accuracy (validación)' : accuracy_valildation,\n",
    "                          'ROC AUC (training)' : ROC_AUC_train,\n",
    "                          'ROC AUC (validación)' : ROC_AUC_validation})\n",
    "\n",
    "\n",
    "\n",
    "\n"
   ]
  },
  {
   "cell_type": "markdown",
   "metadata": {},
   "source": [
    "# Tabla de precision"
   ]
  },
  {
   "cell_type": "code",
   "execution_count": 7,
   "metadata": {},
   "outputs": [
    {
     "data": {
      "text/html": [
       "<div>\n",
       "<style scoped>\n",
       "    .dataframe tbody tr th:only-of-type {\n",
       "        vertical-align: middle;\n",
       "    }\n",
       "\n",
       "    .dataframe tbody tr th {\n",
       "        vertical-align: top;\n",
       "    }\n",
       "\n",
       "    .dataframe thead th {\n",
       "        text-align: right;\n",
       "    }\n",
       "</style>\n",
       "<table border=\"1\" class=\"dataframe\">\n",
       "  <thead>\n",
       "    <tr style=\"text-align: right;\">\n",
       "      <th></th>\n",
       "      <th>Partición</th>\n",
       "      <th>Accuracy (training)</th>\n",
       "      <th>Accuracy (validación)</th>\n",
       "      <th>ROC AUC (training)</th>\n",
       "      <th>ROC AUC (validación)</th>\n",
       "    </tr>\n",
       "  </thead>\n",
       "  <tbody>\n",
       "    <tr>\n",
       "      <th>0</th>\n",
       "      <td>1</td>\n",
       "      <td>0.783862</td>\n",
       "      <td>0.659091</td>\n",
       "      <td>0.785980</td>\n",
       "      <td>0.660417</td>\n",
       "    </tr>\n",
       "    <tr>\n",
       "      <th>1</th>\n",
       "      <td>2</td>\n",
       "      <td>0.813218</td>\n",
       "      <td>0.758621</td>\n",
       "      <td>0.801587</td>\n",
       "      <td>0.752394</td>\n",
       "    </tr>\n",
       "    <tr>\n",
       "      <th>2</th>\n",
       "      <td>3</td>\n",
       "      <td>0.830460</td>\n",
       "      <td>0.597701</td>\n",
       "      <td>0.820954</td>\n",
       "      <td>0.588564</td>\n",
       "    </tr>\n",
       "    <tr>\n",
       "      <th>3</th>\n",
       "      <td>4</td>\n",
       "      <td>0.844828</td>\n",
       "      <td>0.597701</td>\n",
       "      <td>0.841170</td>\n",
       "      <td>0.592287</td>\n",
       "    </tr>\n",
       "    <tr>\n",
       "      <th>4</th>\n",
       "      <td>5</td>\n",
       "      <td>0.828080</td>\n",
       "      <td>0.639535</td>\n",
       "      <td>0.823049</td>\n",
       "      <td>0.630933</td>\n",
       "    </tr>\n",
       "  </tbody>\n",
       "</table>\n",
       "</div>"
      ],
      "text/plain": [
       "   Partición  Accuracy (training)  Accuracy (validación)  ROC AUC (training)  \\\n",
       "0          1             0.783862               0.659091            0.785980   \n",
       "1          2             0.813218               0.758621            0.801587   \n",
       "2          3             0.830460               0.597701            0.820954   \n",
       "3          4             0.844828               0.597701            0.841170   \n",
       "4          5             0.828080               0.639535            0.823049   \n",
       "\n",
       "   ROC AUC (validación)  \n",
       "0              0.660417  \n",
       "1              0.752394  \n",
       "2              0.588564  \n",
       "3              0.592287  \n",
       "4              0.630933  "
      ]
     },
     "metadata": {},
     "output_type": "display_data"
    }
   ],
   "source": [
    "display(primerTablaEjercicio2(DecisionTreeClassifier))  "
   ]
  },
  {
   "cell_type": "markdown",
   "metadata": {},
   "source": [
    "# Arboles combinaciones"
   ]
  },
  {
   "cell_type": "code",
   "execution_count": 8,
   "metadata": {},
   "outputs": [],
   "source": [
    "def accuracyForTrainingAndValidation(depth,criteria,treeClasifier):\n",
    "    acc_train=[]\n",
    "    acc_val=[]\n",
    "\n",
    "\n",
    "    #este for itera sobre los k folds en cada loop tego un set de training y otro de validacion\n",
    "    for train, test  in kfold.split(X_desarrollo,y_desarrollo):\n",
    "        #print(\"TRAIN:\", train_index,'\\n', \"TEST:\", test_index,'\\n' )\n",
    "        X_train, X_val = X_desarrollo.iloc[train], X_desarrollo.iloc[test]\n",
    "        y_train, y_val = y_desarrollo.iloc[train], y_desarrollo.iloc[test]\n",
    "        #intancio el arbol que voy a entrenar en cada fold\n",
    "        tree = treeClasifier(max_depth=depth, criterion=criteria)\n",
    "\n",
    "        tree.fit(X_train, y_train.astype(int))\n",
    "        acc_train.append(tree.score(X=X_train, y=y_train))\n",
    "        acc_val.append(tree.score(X=X_val, y=y_val))\n",
    "        \n",
    "    return {\"training\":np.mean(acc_train), \"validation\": np.mean(acc_val)}\n",
    "\n",
    "        "
   ]
  },
  {
   "cell_type": "code",
   "execution_count": 9,
   "metadata": {},
   "outputs": [],
   "source": [
    "def segundaTablaEjercicio2(treeClasifier):\n",
    "\n",
    "    trainingResults=[]\n",
    "    validationResults=[]\n",
    "    evaluatedDepths=[]\n",
    "    evaluatedCriterias=[]\n",
    "    depthsDictionary={3:'3',5:'5',None:'Infinito'}\n",
    "    depths = [3,5,None]    \n",
    "    criterias =['gini','entropy']\n",
    "\n",
    "    for depth in depths:\n",
    "        for criteria in criterias:\n",
    "            trainingResults.append(accuracyForTrainingAndValidation(depth,criteria,treeClasifier)[\"training\"])\n",
    "            validationResults.append(accuracyForTrainingAndValidation(depth,criteria,treeClasifier)[\"validation\"])\n",
    "            evaluatedDepths.append(depthsDictionary[depth])\n",
    "            evaluatedCriterias.append(criteria)\n",
    "    \n",
    "    return pd.DataFrame({ 'Altura Máxima' : evaluatedDepths,\n",
    "                          'Criterio de evaluación de corte' : evaluatedCriterias,\n",
    "                          'Accuracy (training)' : trainingResults,\n",
    "                          'Accuracy (validación)' : validationResults}).sort_values(by=['Criterio de evaluación de corte'],ascending=False)"
   ]
  },
  {
   "cell_type": "markdown",
   "metadata": {},
   "source": [
    "# Tabla con combinaciones"
   ]
  },
  {
   "cell_type": "code",
   "execution_count": 10,
   "metadata": {},
   "outputs": [
    {
     "data": {
      "text/html": [
       "<div>\n",
       "<style scoped>\n",
       "    .dataframe tbody tr th:only-of-type {\n",
       "        vertical-align: middle;\n",
       "    }\n",
       "\n",
       "    .dataframe tbody tr th {\n",
       "        vertical-align: top;\n",
       "    }\n",
       "\n",
       "    .dataframe thead th {\n",
       "        text-align: right;\n",
       "    }\n",
       "</style>\n",
       "<table border=\"1\" class=\"dataframe\">\n",
       "  <thead>\n",
       "    <tr style=\"text-align: right;\">\n",
       "      <th></th>\n",
       "      <th>Altura Máxima</th>\n",
       "      <th>Criterio de evaluación de corte</th>\n",
       "      <th>Accuracy (training)</th>\n",
       "      <th>Accuracy (validación)</th>\n",
       "    </tr>\n",
       "  </thead>\n",
       "  <tbody>\n",
       "    <tr>\n",
       "      <th>0</th>\n",
       "      <td>3</td>\n",
       "      <td>gini</td>\n",
       "      <td>0.819515</td>\n",
       "      <td>0.650530</td>\n",
       "    </tr>\n",
       "    <tr>\n",
       "      <th>2</th>\n",
       "      <td>5</td>\n",
       "      <td>gini</td>\n",
       "      <td>0.927579</td>\n",
       "      <td>0.673467</td>\n",
       "    </tr>\n",
       "    <tr>\n",
       "      <th>4</th>\n",
       "      <td>Infinito</td>\n",
       "      <td>gini</td>\n",
       "      <td>1.000000</td>\n",
       "      <td>0.661761</td>\n",
       "    </tr>\n",
       "    <tr>\n",
       "      <th>1</th>\n",
       "      <td>3</td>\n",
       "      <td>entropy</td>\n",
       "      <td>0.791947</td>\n",
       "      <td>0.682955</td>\n",
       "    </tr>\n",
       "    <tr>\n",
       "      <th>3</th>\n",
       "      <td>5</td>\n",
       "      <td>entropy</td>\n",
       "      <td>0.917243</td>\n",
       "      <td>0.694580</td>\n",
       "    </tr>\n",
       "    <tr>\n",
       "      <th>5</th>\n",
       "      <td>Infinito</td>\n",
       "      <td>entropy</td>\n",
       "      <td>1.000000</td>\n",
       "      <td>0.671483</td>\n",
       "    </tr>\n",
       "  </tbody>\n",
       "</table>\n",
       "</div>"
      ],
      "text/plain": [
       "  Altura Máxima Criterio de evaluación de corte  Accuracy (training)  \\\n",
       "0             3                            gini             0.819515   \n",
       "2             5                            gini             0.927579   \n",
       "4      Infinito                            gini             1.000000   \n",
       "1             3                         entropy             0.791947   \n",
       "3             5                         entropy             0.917243   \n",
       "5      Infinito                         entropy             1.000000   \n",
       "\n",
       "   Accuracy (validación)  \n",
       "0               0.650530  \n",
       "2               0.673467  \n",
       "4               0.661761  \n",
       "1               0.682955  \n",
       "3               0.694580  \n",
       "5               0.671483  "
      ]
     },
     "metadata": {},
     "output_type": "display_data"
    }
   ],
   "source": [
    "display(segundaTablaEjercicio2(DecisionTreeClassifier))  "
   ]
  },
  {
   "cell_type": "markdown",
   "metadata": {},
   "source": [
    "# Ejercicio Extra: Resultados para nuestro clasificador"
   ]
  },
  {
   "cell_type": "code",
   "execution_count": 11,
   "metadata": {},
   "outputs": [],
   "source": [
    "#display(primerTablaEjercicio2(ourTree.MiClasificadorArbol))  "
   ]
  },
  {
   "cell_type": "code",
   "execution_count": 12,
   "metadata": {},
   "outputs": [],
   "source": [
    "#display(segundaTablaEjercicio2(ourTree.MiClasificadorArbol))\n",
    "#esta tabla tardo 10 minutos en crearse, ver como mejorar performance"
   ]
  },
  {
   "cell_type": "code",
   "execution_count": 13,
   "metadata": {},
   "outputs": [],
   "source": [
    "roc_auc_score = make_scorer(roc_auc_score)\n",
    "n_iter_search = 20\n",
    "scaler = preprocessing.StandardScaler().fit(X_desarrollo)\n",
    "max_abs_scaler = preprocessing.MaxAbsScaler()                                      \n",
    "def performGridSearch(clasiffier, param_grid):\n",
    "    start = time()\n",
    "    gridSearch = GridSearchCV(clasiffier, param_grid, cv=kfold, scoring=roc_auc_score)\n",
    "    gridSearch.fit(X_new, y_desarrollo)\n",
    "    return {\"bestScore\" : gridSearch.best_score_, \"bestParams\" : gridSearch.best_params_, \"executionTime\" : time() - start}\n",
    "\n",
    "def performRandomSearch(classifier, param_dist):\n",
    "    start = time()\n",
    "    randomSearch = RandomizedSearchCV(classifier, param_distributions=param_dist, n_iter=n_iter_search, cv=kfold, scoring=roc_auc_score, refit=True)\n",
    "    randomSearch.fit(X_new, y_desarrollo)\n",
    "    return {\"bestScore\" : randomSearch.best_score_, \"bestParams\" : randomSearch.best_params_, \"executionTime\" : time() - start}\n",
    "\n",
    "\n",
    "def displayBestParamsTable(classifier, paramsGridSearch, paramsRandomSearch):\n",
    "    gridSearchResult = performGridSearch(classifier, paramsGridSearch);\n",
    "    randomSearchResult = performRandomSearch(classifier, paramsRandomSearch);\n",
    "    df =  pd.DataFrame({ ' ' : [\"Mejor performance (Roc Auc)\", \"Tiempo de ejecución (Segundos)\"],\n",
    "                          'Grid Search' : [gridSearchResult[\"bestScore\"],gridSearchResult[ \"executionTime\"]],\n",
    "                          'Random Search' : [randomSearchResult[\"bestScore\"],randomSearchResult[ \"executionTime\"]]\n",
    "                        })      \n",
    "    display(df.set_index(' '))\n",
    "    orderedBestGridParams = collections.OrderedDict(sorted(gridSearchResult[\"bestParams\"].items()))\n",
    "    orderedBestRandomParams = collections.OrderedDict(sorted(randomSearchResult[\"bestParams\"].items()))\n",
    "    display(pd.DataFrame({ 'Mejores parámetros Grid Search' : list(orderedBestGridParams.keys()),\n",
    "                          '' : list(orderedBestGridParams.values())\n",
    "                        }).set_index('Mejores parámetros Grid Search'))\n",
    "    display(pd.DataFrame({ 'Mejores parámetros Random Search' : list(orderedBestRandomParams.keys()),\n",
    "                          '' : list(orderedBestRandomParams.values())\n",
    "                        }).set_index('Mejores parámetros Random Search'))"
   ]
  },
  {
   "cell_type": "markdown",
   "metadata": {},
   "source": [
    "# LDA"
   ]
  },
  {
   "cell_type": "code",
   "execution_count": 14,
   "metadata": {},
   "outputs": [
    {
     "name": "stderr",
     "output_type": "stream",
     "text": [
      "/Library/Frameworks/Python.framework/Versions/3.7/lib/python3.7/site-packages/sklearn/discriminant_analysis.py:294: RuntimeWarning: internal gelsd driver lwork query error, required iwork dimension not returned. This is likely the result of LAPACK bug 0038, fixed in LAPACK 3.2.2 (released July 21, 2010). Falling back to 'gelss' driver.\n",
      "  self.coef_ = linalg.lstsq(self.covariance_, self.means_.T)[0].T\n"
     ]
    },
    {
     "data": {
      "text/html": [
       "<div>\n",
       "<style scoped>\n",
       "    .dataframe tbody tr th:only-of-type {\n",
       "        vertical-align: middle;\n",
       "    }\n",
       "\n",
       "    .dataframe tbody tr th {\n",
       "        vertical-align: top;\n",
       "    }\n",
       "\n",
       "    .dataframe thead th {\n",
       "        text-align: right;\n",
       "    }\n",
       "</style>\n",
       "<table border=\"1\" class=\"dataframe\">\n",
       "  <thead>\n",
       "    <tr style=\"text-align: right;\">\n",
       "      <th></th>\n",
       "      <th>Grid Search</th>\n",
       "      <th>Random Search</th>\n",
       "    </tr>\n",
       "    <tr>\n",
       "      <th></th>\n",
       "      <th></th>\n",
       "      <th></th>\n",
       "    </tr>\n",
       "  </thead>\n",
       "  <tbody>\n",
       "    <tr>\n",
       "      <th>Mejor performance (Roc Auc)</th>\n",
       "      <td>0.774381</td>\n",
       "      <td>0.771116</td>\n",
       "    </tr>\n",
       "    <tr>\n",
       "      <th>Tiempo de ejecución (Segundos)</th>\n",
       "      <td>0.414439</td>\n",
       "      <td>0.591013</td>\n",
       "    </tr>\n",
       "  </tbody>\n",
       "</table>\n",
       "</div>"
      ],
      "text/plain": [
       "                                Grid Search  Random Search\n",
       "                                                          \n",
       "Mejor performance (Roc Auc)        0.774381       0.771116\n",
       "Tiempo de ejecución (Segundos)     0.414439       0.591013"
      ]
     },
     "metadata": {},
     "output_type": "display_data"
    },
    {
     "data": {
      "text/html": [
       "<div>\n",
       "<style scoped>\n",
       "    .dataframe tbody tr th:only-of-type {\n",
       "        vertical-align: middle;\n",
       "    }\n",
       "\n",
       "    .dataframe tbody tr th {\n",
       "        vertical-align: top;\n",
       "    }\n",
       "\n",
       "    .dataframe thead th {\n",
       "        text-align: right;\n",
       "    }\n",
       "</style>\n",
       "<table border=\"1\" class=\"dataframe\">\n",
       "  <thead>\n",
       "    <tr style=\"text-align: right;\">\n",
       "      <th></th>\n",
       "      <th></th>\n",
       "    </tr>\n",
       "    <tr>\n",
       "      <th>Mejores parámetros Grid Search</th>\n",
       "      <th></th>\n",
       "    </tr>\n",
       "  </thead>\n",
       "  <tbody>\n",
       "    <tr>\n",
       "      <th>shrinkage</th>\n",
       "      <td>None</td>\n",
       "    </tr>\n",
       "    <tr>\n",
       "      <th>solver</th>\n",
       "      <td>lsqr</td>\n",
       "    </tr>\n",
       "  </tbody>\n",
       "</table>\n",
       "</div>"
      ],
      "text/plain": [
       "                                    \n",
       "Mejores parámetros Grid Search      \n",
       "shrinkage                       None\n",
       "solver                          lsqr"
      ]
     },
     "metadata": {},
     "output_type": "display_data"
    },
    {
     "data": {
      "text/html": [
       "<div>\n",
       "<style scoped>\n",
       "    .dataframe tbody tr th:only-of-type {\n",
       "        vertical-align: middle;\n",
       "    }\n",
       "\n",
       "    .dataframe tbody tr th {\n",
       "        vertical-align: top;\n",
       "    }\n",
       "\n",
       "    .dataframe thead th {\n",
       "        text-align: right;\n",
       "    }\n",
       "</style>\n",
       "<table border=\"1\" class=\"dataframe\">\n",
       "  <thead>\n",
       "    <tr style=\"text-align: right;\">\n",
       "      <th></th>\n",
       "      <th></th>\n",
       "    </tr>\n",
       "    <tr>\n",
       "      <th>Mejores parámetros Random Search</th>\n",
       "      <th></th>\n",
       "    </tr>\n",
       "  </thead>\n",
       "  <tbody>\n",
       "    <tr>\n",
       "      <th>shrinkage</th>\n",
       "      <td>0.3007</td>\n",
       "    </tr>\n",
       "    <tr>\n",
       "      <th>solver</th>\n",
       "      <td>lsqr</td>\n",
       "    </tr>\n",
       "  </tbody>\n",
       "</table>\n",
       "</div>"
      ],
      "text/plain": [
       "                                        \n",
       "Mejores parámetros Random Search        \n",
       "shrinkage                         0.3007\n",
       "solver                              lsqr"
      ]
     },
     "metadata": {},
     "output_type": "display_data"
    }
   ],
   "source": [
    "lda_param_grid = [{'solver': ['lsqr', 'eigen'], 'shrinkage': [None, 'auto', 0, 0.25, 0.5, 0.75, 1]},\n",
    "                   {'solver': ['svd'], 'store_covariance' : [True, False]}]\n",
    "\n",
    "lda_param_random = {'solver': ['lsqr', 'eigen'], 'shrinkage': np.arange(0, 1, 0.0001)}\n",
    "\n",
    "displayBestParamsTable(LinearDiscriminantAnalysis(),lda_param_grid, lda_param_random)"
   ]
  },
  {
   "cell_type": "markdown",
   "metadata": {},
   "source": [
    "# Arbol de Decisión"
   ]
  },
  {
   "cell_type": "code",
   "execution_count": 15,
   "metadata": {},
   "outputs": [
    {
     "data": {
      "text/html": [
       "<div>\n",
       "<style scoped>\n",
       "    .dataframe tbody tr th:only-of-type {\n",
       "        vertical-align: middle;\n",
       "    }\n",
       "\n",
       "    .dataframe tbody tr th {\n",
       "        vertical-align: top;\n",
       "    }\n",
       "\n",
       "    .dataframe thead th {\n",
       "        text-align: right;\n",
       "    }\n",
       "</style>\n",
       "<table border=\"1\" class=\"dataframe\">\n",
       "  <thead>\n",
       "    <tr style=\"text-align: right;\">\n",
       "      <th></th>\n",
       "      <th>Grid Search</th>\n",
       "      <th>Random Search</th>\n",
       "    </tr>\n",
       "    <tr>\n",
       "      <th></th>\n",
       "      <th></th>\n",
       "      <th></th>\n",
       "    </tr>\n",
       "  </thead>\n",
       "  <tbody>\n",
       "    <tr>\n",
       "      <th>Mejor performance (Roc Auc)</th>\n",
       "      <td>0.738894</td>\n",
       "      <td>0.718736</td>\n",
       "    </tr>\n",
       "    <tr>\n",
       "      <th>Tiempo de ejecución (Segundos)</th>\n",
       "      <td>0.749238</td>\n",
       "      <td>0.744391</td>\n",
       "    </tr>\n",
       "  </tbody>\n",
       "</table>\n",
       "</div>"
      ],
      "text/plain": [
       "                                Grid Search  Random Search\n",
       "                                                          \n",
       "Mejor performance (Roc Auc)        0.738894       0.718736\n",
       "Tiempo de ejecución (Segundos)     0.749238       0.744391"
      ]
     },
     "metadata": {},
     "output_type": "display_data"
    },
    {
     "data": {
      "text/html": [
       "<div>\n",
       "<style scoped>\n",
       "    .dataframe tbody tr th:only-of-type {\n",
       "        vertical-align: middle;\n",
       "    }\n",
       "\n",
       "    .dataframe tbody tr th {\n",
       "        vertical-align: top;\n",
       "    }\n",
       "\n",
       "    .dataframe thead th {\n",
       "        text-align: right;\n",
       "    }\n",
       "</style>\n",
       "<table border=\"1\" class=\"dataframe\">\n",
       "  <thead>\n",
       "    <tr style=\"text-align: right;\">\n",
       "      <th></th>\n",
       "      <th></th>\n",
       "    </tr>\n",
       "    <tr>\n",
       "      <th>Mejores parámetros Grid Search</th>\n",
       "      <th></th>\n",
       "    </tr>\n",
       "  </thead>\n",
       "  <tbody>\n",
       "    <tr>\n",
       "      <th>criterion</th>\n",
       "      <td>gini</td>\n",
       "    </tr>\n",
       "    <tr>\n",
       "      <th>max_depth</th>\n",
       "      <td>5</td>\n",
       "    </tr>\n",
       "    <tr>\n",
       "      <th>splitter</th>\n",
       "      <td>best</td>\n",
       "    </tr>\n",
       "  </tbody>\n",
       "</table>\n",
       "</div>"
      ],
      "text/plain": [
       "                                    \n",
       "Mejores parámetros Grid Search      \n",
       "criterion                       gini\n",
       "max_depth                          5\n",
       "splitter                        best"
      ]
     },
     "metadata": {},
     "output_type": "display_data"
    },
    {
     "data": {
      "text/html": [
       "<div>\n",
       "<style scoped>\n",
       "    .dataframe tbody tr th:only-of-type {\n",
       "        vertical-align: middle;\n",
       "    }\n",
       "\n",
       "    .dataframe tbody tr th {\n",
       "        vertical-align: top;\n",
       "    }\n",
       "\n",
       "    .dataframe thead th {\n",
       "        text-align: right;\n",
       "    }\n",
       "</style>\n",
       "<table border=\"1\" class=\"dataframe\">\n",
       "  <thead>\n",
       "    <tr style=\"text-align: right;\">\n",
       "      <th></th>\n",
       "      <th></th>\n",
       "    </tr>\n",
       "    <tr>\n",
       "      <th>Mejores parámetros Random Search</th>\n",
       "      <th></th>\n",
       "    </tr>\n",
       "  </thead>\n",
       "  <tbody>\n",
       "    <tr>\n",
       "      <th>criterion</th>\n",
       "      <td>entropy</td>\n",
       "    </tr>\n",
       "    <tr>\n",
       "      <th>max_depth</th>\n",
       "      <td>19</td>\n",
       "    </tr>\n",
       "    <tr>\n",
       "      <th>splitter</th>\n",
       "      <td>best</td>\n",
       "    </tr>\n",
       "  </tbody>\n",
       "</table>\n",
       "</div>"
      ],
      "text/plain": [
       "                                         \n",
       "Mejores parámetros Random Search         \n",
       "criterion                         entropy\n",
       "max_depth                              19\n",
       "splitter                             best"
      ]
     },
     "metadata": {},
     "output_type": "display_data"
    }
   ],
   "source": [
    "tree_param_grid = [{'max_depth': [3,5,10,15,20],'criterion': ('gini','entropy'), 'splitter' : ['random', 'best'] }]\n",
    "\n",
    "tree_param_random = {'max_depth': np.arange(3, 21),'criterion': ('gini','entropy'), 'splitter' : ['random', 'best'] }\n",
    "\n",
    "displayBestParamsTable(DecisionTreeClassifier(),tree_param_grid, tree_param_random)\n",
    "\n"
   ]
  },
  {
   "cell_type": "markdown",
   "metadata": {},
   "source": [
    "# KNN"
   ]
  },
  {
   "cell_type": "code",
   "execution_count": 16,
   "metadata": {},
   "outputs": [
    {
     "data": {
      "text/html": [
       "<div>\n",
       "<style scoped>\n",
       "    .dataframe tbody tr th:only-of-type {\n",
       "        vertical-align: middle;\n",
       "    }\n",
       "\n",
       "    .dataframe tbody tr th {\n",
       "        vertical-align: top;\n",
       "    }\n",
       "\n",
       "    .dataframe thead th {\n",
       "        text-align: right;\n",
       "    }\n",
       "</style>\n",
       "<table border=\"1\" class=\"dataframe\">\n",
       "  <thead>\n",
       "    <tr style=\"text-align: right;\">\n",
       "      <th></th>\n",
       "      <th>Grid Search</th>\n",
       "      <th>Random Search</th>\n",
       "    </tr>\n",
       "    <tr>\n",
       "      <th></th>\n",
       "      <th></th>\n",
       "      <th></th>\n",
       "    </tr>\n",
       "  </thead>\n",
       "  <tbody>\n",
       "    <tr>\n",
       "      <th>Mejor performance (Roc Auc)</th>\n",
       "      <td>0.770816</td>\n",
       "      <td>0.781108</td>\n",
       "    </tr>\n",
       "    <tr>\n",
       "      <th>Tiempo de ejecución (Segundos)</th>\n",
       "      <td>1.274187</td>\n",
       "      <td>1.659559</td>\n",
       "    </tr>\n",
       "  </tbody>\n",
       "</table>\n",
       "</div>"
      ],
      "text/plain": [
       "                                Grid Search  Random Search\n",
       "                                                          \n",
       "Mejor performance (Roc Auc)        0.770816       0.781108\n",
       "Tiempo de ejecución (Segundos)     1.274187       1.659559"
      ]
     },
     "metadata": {},
     "output_type": "display_data"
    },
    {
     "data": {
      "text/html": [
       "<div>\n",
       "<style scoped>\n",
       "    .dataframe tbody tr th:only-of-type {\n",
       "        vertical-align: middle;\n",
       "    }\n",
       "\n",
       "    .dataframe tbody tr th {\n",
       "        vertical-align: top;\n",
       "    }\n",
       "\n",
       "    .dataframe thead th {\n",
       "        text-align: right;\n",
       "    }\n",
       "</style>\n",
       "<table border=\"1\" class=\"dataframe\">\n",
       "  <thead>\n",
       "    <tr style=\"text-align: right;\">\n",
       "      <th></th>\n",
       "      <th></th>\n",
       "    </tr>\n",
       "    <tr>\n",
       "      <th>Mejores parámetros Grid Search</th>\n",
       "      <th></th>\n",
       "    </tr>\n",
       "  </thead>\n",
       "  <tbody>\n",
       "    <tr>\n",
       "      <th>n_neighbors</th>\n",
       "      <td>30</td>\n",
       "    </tr>\n",
       "    <tr>\n",
       "      <th>p</th>\n",
       "      <td>2</td>\n",
       "    </tr>\n",
       "    <tr>\n",
       "      <th>weights</th>\n",
       "      <td>uniform</td>\n",
       "    </tr>\n",
       "  </tbody>\n",
       "</table>\n",
       "</div>"
      ],
      "text/plain": [
       "                                       \n",
       "Mejores parámetros Grid Search         \n",
       "n_neighbors                          30\n",
       "p                                     2\n",
       "weights                         uniform"
      ]
     },
     "metadata": {},
     "output_type": "display_data"
    },
    {
     "data": {
      "text/html": [
       "<div>\n",
       "<style scoped>\n",
       "    .dataframe tbody tr th:only-of-type {\n",
       "        vertical-align: middle;\n",
       "    }\n",
       "\n",
       "    .dataframe tbody tr th {\n",
       "        vertical-align: top;\n",
       "    }\n",
       "\n",
       "    .dataframe thead th {\n",
       "        text-align: right;\n",
       "    }\n",
       "</style>\n",
       "<table border=\"1\" class=\"dataframe\">\n",
       "  <thead>\n",
       "    <tr style=\"text-align: right;\">\n",
       "      <th></th>\n",
       "      <th></th>\n",
       "    </tr>\n",
       "    <tr>\n",
       "      <th>Mejores parámetros Random Search</th>\n",
       "      <th></th>\n",
       "    </tr>\n",
       "  </thead>\n",
       "  <tbody>\n",
       "    <tr>\n",
       "      <th>n_neighbors</th>\n",
       "      <td>23</td>\n",
       "    </tr>\n",
       "    <tr>\n",
       "      <th>p</th>\n",
       "      <td>2</td>\n",
       "    </tr>\n",
       "    <tr>\n",
       "      <th>weights</th>\n",
       "      <td>uniform</td>\n",
       "    </tr>\n",
       "  </tbody>\n",
       "</table>\n",
       "</div>"
      ],
      "text/plain": [
       "                                         \n",
       "Mejores parámetros Random Search         \n",
       "n_neighbors                            23\n",
       "p                                       2\n",
       "weights                           uniform"
      ]
     },
     "metadata": {},
     "output_type": "display_data"
    }
   ],
   "source": [
    "KNN_param_grid = {'n_neighbors': [5, 30, 50, 100],'p': np.arange(1,3), \"weights\" : ['uniform', 'distance']}\n",
    "KNN_param_random = {'n_neighbors': np.arange(5, 101), 'p': np.arange(1,3), \"weights\" : ['uniform', 'distance']}\n",
    "displayBestParamsTable(KNeighborsClassifier(),KNN_param_grid, KNN_param_random)"
   ]
  },
  {
   "cell_type": "markdown",
   "metadata": {},
   "source": [
    "# SVM"
   ]
  },
  {
   "cell_type": "code",
   "execution_count": 17,
   "metadata": {},
   "outputs": [
    {
     "data": {
      "text/html": [
       "<div>\n",
       "<style scoped>\n",
       "    .dataframe tbody tr th:only-of-type {\n",
       "        vertical-align: middle;\n",
       "    }\n",
       "\n",
       "    .dataframe tbody tr th {\n",
       "        vertical-align: top;\n",
       "    }\n",
       "\n",
       "    .dataframe thead th {\n",
       "        text-align: right;\n",
       "    }\n",
       "</style>\n",
       "<table border=\"1\" class=\"dataframe\">\n",
       "  <thead>\n",
       "    <tr style=\"text-align: right;\">\n",
       "      <th></th>\n",
       "      <th>Grid Search</th>\n",
       "      <th>Random Search</th>\n",
       "    </tr>\n",
       "    <tr>\n",
       "      <th></th>\n",
       "      <th></th>\n",
       "      <th></th>\n",
       "    </tr>\n",
       "  </thead>\n",
       "  <tbody>\n",
       "    <tr>\n",
       "      <th>Mejor performance (Roc Auc)</th>\n",
       "      <td>0.771832</td>\n",
       "      <td>0.785430</td>\n",
       "    </tr>\n",
       "    <tr>\n",
       "      <th>Tiempo de ejecución (Segundos)</th>\n",
       "      <td>30.669055</td>\n",
       "      <td>1.131408</td>\n",
       "    </tr>\n",
       "  </tbody>\n",
       "</table>\n",
       "</div>"
      ],
      "text/plain": [
       "                                Grid Search  Random Search\n",
       "                                                          \n",
       "Mejor performance (Roc Auc)        0.771832       0.785430\n",
       "Tiempo de ejecución (Segundos)    30.669055       1.131408"
      ]
     },
     "metadata": {},
     "output_type": "display_data"
    },
    {
     "data": {
      "text/html": [
       "<div>\n",
       "<style scoped>\n",
       "    .dataframe tbody tr th:only-of-type {\n",
       "        vertical-align: middle;\n",
       "    }\n",
       "\n",
       "    .dataframe tbody tr th {\n",
       "        vertical-align: top;\n",
       "    }\n",
       "\n",
       "    .dataframe thead th {\n",
       "        text-align: right;\n",
       "    }\n",
       "</style>\n",
       "<table border=\"1\" class=\"dataframe\">\n",
       "  <thead>\n",
       "    <tr style=\"text-align: right;\">\n",
       "      <th></th>\n",
       "      <th></th>\n",
       "    </tr>\n",
       "    <tr>\n",
       "      <th>Mejores parámetros Grid Search</th>\n",
       "      <th></th>\n",
       "    </tr>\n",
       "  </thead>\n",
       "  <tbody>\n",
       "    <tr>\n",
       "      <th>C</th>\n",
       "      <td>1</td>\n",
       "    </tr>\n",
       "    <tr>\n",
       "      <th>kernel</th>\n",
       "      <td>linear</td>\n",
       "    </tr>\n",
       "  </tbody>\n",
       "</table>\n",
       "</div>"
      ],
      "text/plain": [
       "                                      \n",
       "Mejores parámetros Grid Search        \n",
       "C                                    1\n",
       "kernel                          linear"
      ]
     },
     "metadata": {},
     "output_type": "display_data"
    },
    {
     "data": {
      "text/html": [
       "<div>\n",
       "<style scoped>\n",
       "    .dataframe tbody tr th:only-of-type {\n",
       "        vertical-align: middle;\n",
       "    }\n",
       "\n",
       "    .dataframe tbody tr th {\n",
       "        vertical-align: top;\n",
       "    }\n",
       "\n",
       "    .dataframe thead th {\n",
       "        text-align: right;\n",
       "    }\n",
       "</style>\n",
       "<table border=\"1\" class=\"dataframe\">\n",
       "  <thead>\n",
       "    <tr style=\"text-align: right;\">\n",
       "      <th></th>\n",
       "      <th></th>\n",
       "    </tr>\n",
       "    <tr>\n",
       "      <th>Mejores parámetros Random Search</th>\n",
       "      <th></th>\n",
       "    </tr>\n",
       "  </thead>\n",
       "  <tbody>\n",
       "    <tr>\n",
       "      <th>C</th>\n",
       "      <td>33.001</td>\n",
       "    </tr>\n",
       "    <tr>\n",
       "      <th>gamma</th>\n",
       "      <td>0.00741</td>\n",
       "    </tr>\n",
       "    <tr>\n",
       "      <th>kernel</th>\n",
       "      <td>sigmoid</td>\n",
       "    </tr>\n",
       "  </tbody>\n",
       "</table>\n",
       "</div>"
      ],
      "text/plain": [
       "                                         \n",
       "Mejores parámetros Random Search         \n",
       "C                                  33.001\n",
       "gamma                             0.00741\n",
       "kernel                            sigmoid"
      ]
     },
     "metadata": {},
     "output_type": "display_data"
    }
   ],
   "source": [
    "\n",
    "\n",
    "SVM_param_grid = [{'kernel': ['rbf', 'poly', 'sigmoid'], 'gamma': [1e-1, 1e-5],\n",
    "                     'C': [.0001, .1, 1, 100]},\n",
    "                    {'kernel': ['linear'], 'C': [1, 10, 100, 1000]}]\n",
    "SVM_param_random = {'kernel': ['rbf', 'poly', 'sigmoid'], 'gamma':np.arange(1e-5, 1e-1, 0.0001),\n",
    "                     'C': np.arange(0.001,101)}\n",
    "\n",
    "displayBestParamsTable(SVC(),SVM_param_grid, SVM_param_random)\n",
    "\n"
   ]
  },
  {
   "cell_type": "code",
   "execution_count": 18,
   "metadata": {},
   "outputs": [],
   "source": [
    "\n",
    "#SVM_param_grid = [{'solver': ['newton-cg', 'lbfgs', 'liblinear', 'sag', 'saga'],\n",
    " #                    'C': np.arange(0.001, 1, 0.01),'multi_class' :['ovr', 'multinomial', 'auto']}]\n",
    "#SVM_param_random = {'solver': ['newton-cg', 'lbfgs', 'liblinear', 'sag', 'saga'],\n",
    "  #                   'C': np.arange(0.001, 1, 0.01),'multi_class':['ovr', 'multinomial', 'auto']}\n",
    "\n",
    "#logreg = LogisticRegression().fit(X_train, y_train)\n",
    "#displayBestParamsTable(LogisticRegression(),SVM_param_grid, SVM_param_random)\n",
    "\n",
    "\n"
   ]
  },
  {
   "cell_type": "code",
   "execution_count": 19,
   "metadata": {},
   "outputs": [],
   "source": [
    "\n",
    "#min_max_scaler = preprocessing.MinMaxScaler()\n",
    "#>>> X_train_minmax = min_max_scaler.fit_transform(X_train)\n",
    "#>>> X_train_minmax"
   ]
  },
  {
   "cell_type": "code",
   "execution_count": null,
   "metadata": {},
   "outputs": [],
   "source": []
  },
  {
   "cell_type": "code",
   "execution_count": 20,
   "metadata": {},
   "outputs": [],
   "source": [
    "#X_scaled = preprocessing.scale(X_desarrollo)"
   ]
  }
 ],
 "metadata": {
  "kernelspec": {
   "display_name": "Python 3",
   "language": "python",
   "name": "python3"
  },
  "language_info": {
   "codemirror_mode": {
    "name": "ipython",
    "version": 3
   },
   "file_extension": ".py",
   "mimetype": "text/x-python",
   "name": "python",
   "nbconvert_exporter": "python",
   "pygments_lexer": "ipython3",
   "version": "3.7.0"
  }
 },
 "nbformat": 4,
 "nbformat_minor": 2
}
