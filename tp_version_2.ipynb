{
 "cells": [
  {
   "cell_type": "code",
   "execution_count": 1,
   "metadata": {},
   "outputs": [],
   "source": [
    "import pandas as pd\n",
    "import numpy as np\n",
    "import scipy as sp\n",
    "from scipy.misc import comb\n",
    "from sklearn.model_selection import train_test_split , KFold, StratifiedKFold\n",
    "import matplotlib.pyplot as plt\n",
    "from sklearn.tree import DecisionTreeClassifier\n",
    "from sklearn.neighbors import KNeighborsClassifier\n",
    "import pdb\n",
    "from sklearn.metrics import roc_auc_score , make_scorer\n",
    "from sklearn.model_selection import GridSearchCV\n",
    "import NuestroArbol as ourTree\n",
    "\n",
    "\n",
    "%matplotlib inline"
   ]
  },
  {
   "cell_type": "markdown",
   "metadata": {},
   "source": [
    "# Importo datos "
   ]
  },
  {
   "cell_type": "code",
   "execution_count": 2,
   "metadata": {},
   "outputs": [],
   "source": [
    "X_comp = pd.read_csv('X_competencia.csv')\n",
    "X = pd.read_csv('X.csv')\n",
    "y = pd.read_csv('y.csv')\n",
    "X.drop(['index'],inplace=True, axis=1)\n",
    "y.drop(['index'], inplace=True,axis=1)\n",
    "\n"
   ]
  },
  {
   "cell_type": "code",
   "execution_count": 3,
   "metadata": {},
   "outputs": [
    {
     "data": {
      "text/plain": [
       "5"
      ]
     },
     "execution_count": 3,
     "metadata": {},
     "output_type": "execute_result"
    }
   ],
   "source": [
    "#partimos los datos en desarrollo(87%) y holdout(13%). \n",
    "X_desarrollo , X_holout ,y_desarrollo, y_holdout = train_test_split(X, y['output'],\n",
    "                                                                    test_size=0.13,random_state=0,stratify=y['output'])\n",
    "#pase los kfold aca arriba ya que se usan en varios lugares.\n",
    "#evaluar si esta bueno que siempre se usen los mismos folds\n",
    "kfold = StratifiedKFold(n_splits=5)\n",
    "kfold.get_n_splits(X_desarrollo,y_desarrollo)\n"
   ]
  },
  {
   "cell_type": "markdown",
   "metadata": {},
   "source": [
    "### K-fold CV "
   ]
  },
  {
   "cell_type": "code",
   "execution_count": 4,
   "metadata": {},
   "outputs": [],
   "source": [
    "def primerTablaEjercicio2(treeClasifier):\n",
    "    \n",
    "    accuracy_train=[]\n",
    "    accuracy_valildation=[]\n",
    "    ROC_AUC_train=[]\n",
    "    ROC_AUC_validation=[]\n",
    "\n",
    "    #este for itera sobre los k folds en cada loop tego un set de datos y otro de validacion\n",
    "    for train, test  in kfold.split(X_desarrollo,y_desarrollo):\n",
    "        #print(\"TRAIN:\", train_index,'\\n', \"TEST:\", test_index,'\\n' )\n",
    "        X_train, X_val = X_desarrollo.iloc[train], X_desarrollo.iloc[test]\n",
    "        y_train, y_val = y_desarrollo.iloc[train], y_desarrollo.iloc[test]\n",
    "        #intancio el arbol que voy a entrenar en cada fold\n",
    "        tree = treeClasifier(max_depth=3, criterion=\"gini\")\n",
    "\n",
    "        tree.fit(X_train, y_train.astype(int))\n",
    "        accuracy_train.append(tree.score(X=X_train, y=y_train))\n",
    "        accuracy_valildation.append(tree.score(X=X_val, y=y_val))\n",
    "        ROC_AUC_train.append(roc_auc_score(y_train,tree.predict(X_train)))\n",
    "        ROC_AUC_validation.append(roc_auc_score(y_val,tree.predict(X_val)))\n",
    "        \n",
    "    return pd.DataFrame({ 'Partición' : np.arange(1,6),'Accuracy (training)' :accuracy_train,\n",
    "                          'Accuracy (validación)' : accuracy_valildation,\n",
    "                          'ROC AUC (training)' : ROC_AUC_train,\n",
    "                          'ROC AUC (validación)' : ROC_AUC_validation})\n",
    "\n",
    "\n",
    "\n",
    "\n"
   ]
  },
  {
   "cell_type": "markdown",
   "metadata": {},
   "source": [
    "# Tabla de precision"
   ]
  },
  {
   "cell_type": "code",
   "execution_count": 5,
   "metadata": {},
   "outputs": [
    {
     "data": {
      "text/html": [
       "<div>\n",
       "<style scoped>\n",
       "    .dataframe tbody tr th:only-of-type {\n",
       "        vertical-align: middle;\n",
       "    }\n",
       "\n",
       "    .dataframe tbody tr th {\n",
       "        vertical-align: top;\n",
       "    }\n",
       "\n",
       "    .dataframe thead th {\n",
       "        text-align: right;\n",
       "    }\n",
       "</style>\n",
       "<table border=\"1\" class=\"dataframe\">\n",
       "  <thead>\n",
       "    <tr style=\"text-align: right;\">\n",
       "      <th></th>\n",
       "      <th>Partición</th>\n",
       "      <th>Accuracy (training)</th>\n",
       "      <th>Accuracy (validación)</th>\n",
       "      <th>ROC AUC (training)</th>\n",
       "      <th>ROC AUC( validación)</th>\n",
       "    </tr>\n",
       "  </thead>\n",
       "  <tbody>\n",
       "    <tr>\n",
       "      <th>0</th>\n",
       "      <td>1</td>\n",
       "      <td>0.783862</td>\n",
       "      <td>0.659091</td>\n",
       "      <td>0.785980</td>\n",
       "      <td>0.660417</td>\n",
       "    </tr>\n",
       "    <tr>\n",
       "      <th>1</th>\n",
       "      <td>2</td>\n",
       "      <td>0.813218</td>\n",
       "      <td>0.758621</td>\n",
       "      <td>0.801587</td>\n",
       "      <td>0.752394</td>\n",
       "    </tr>\n",
       "    <tr>\n",
       "      <th>2</th>\n",
       "      <td>3</td>\n",
       "      <td>0.830460</td>\n",
       "      <td>0.597701</td>\n",
       "      <td>0.820954</td>\n",
       "      <td>0.588564</td>\n",
       "    </tr>\n",
       "    <tr>\n",
       "      <th>3</th>\n",
       "      <td>4</td>\n",
       "      <td>0.844828</td>\n",
       "      <td>0.597701</td>\n",
       "      <td>0.841170</td>\n",
       "      <td>0.592287</td>\n",
       "    </tr>\n",
       "    <tr>\n",
       "      <th>4</th>\n",
       "      <td>5</td>\n",
       "      <td>0.828080</td>\n",
       "      <td>0.639535</td>\n",
       "      <td>0.823049</td>\n",
       "      <td>0.628751</td>\n",
       "    </tr>\n",
       "  </tbody>\n",
       "</table>\n",
       "</div>"
      ],
      "text/plain": [
       "   Partición  Accuracy (training)  Accuracy (validación)  ROC AUC (training)  \\\n",
       "0          1             0.783862               0.659091            0.785980   \n",
       "1          2             0.813218               0.758621            0.801587   \n",
       "2          3             0.830460               0.597701            0.820954   \n",
       "3          4             0.844828               0.597701            0.841170   \n",
       "4          5             0.828080               0.639535            0.823049   \n",
       "\n",
       "   ROC AUC( validación)  \n",
       "0              0.660417  \n",
       "1              0.752394  \n",
       "2              0.588564  \n",
       "3              0.592287  \n",
       "4              0.628751  "
      ]
     },
     "metadata": {},
     "output_type": "display_data"
    }
   ],
   "source": [
    "display(primerTablaEjercicio2(DecisionTreeClassifier))  "
   ]
  },
  {
   "cell_type": "markdown",
   "metadata": {},
   "source": [
    "# Arboles combinaciones"
   ]
  },
  {
   "cell_type": "code",
   "execution_count": 6,
   "metadata": {},
   "outputs": [],
   "source": [
    "def accuracyForTrainingAndValidation(depth,criteria,treeClasifier):\n",
    "    acc_train=[]\n",
    "    acc_val=[]\n",
    "\n",
    "\n",
    "    #este for itera sobre los k folds en cada loop tego un set de training y otro de validacion\n",
    "    for train, test  in kfold.split(X_desarrollo,y_desarrollo):\n",
    "        #print(\"TRAIN:\", train_index,'\\n', \"TEST:\", test_index,'\\n' )\n",
    "        X_train, X_val = X_desarrollo.iloc[train], X_desarrollo.iloc[test]\n",
    "        y_train, y_val = y_desarrollo.iloc[train], y_desarrollo.iloc[test]\n",
    "        #intancio el arbol que voy a entrenar en cada fold\n",
    "        tree = treeClasifier(max_depth=depth, criterion=criteria)\n",
    "\n",
    "        tree.fit(X_train, y_train.astype(int))\n",
    "        acc_train.append(tree.score(X=X_train, y=y_train))\n",
    "        acc_val.append(tree.score(X=X_val, y=y_val))\n",
    "        \n",
    "    return {\"training\":np.mean(acc_train), \"validation\": np.mean(acc_val)}\n",
    "\n",
    "        "
   ]
  },
  {
   "cell_type": "code",
   "execution_count": 7,
   "metadata": {},
   "outputs": [],
   "source": [
    "def segundaTablaEjercicio2(treeClasifier):\n",
    "\n",
    "    trainingResults=[]\n",
    "    validationResults=[]\n",
    "    evaluatedDepths=[]\n",
    "    evaluatedCriterias=[]\n",
    "    depthsDictionary={3:'3',5:'5',None:'Infinito'}\n",
    "    depths = [3,5,None]    \n",
    "    criterias =['gini','entropy']\n",
    "\n",
    "    for depth in depths:\n",
    "        for criteria in criterias:\n",
    "            trainingResults.append(accuracyForTrainingAndValidation(depth,criteria,treeClasifier)[\"training\"])\n",
    "            validationResults.append(accuracyForTrainingAndValidation(depth,criteria,treeClasifier)[\"validation\"])\n",
    "            evaluatedDepths.append(depthsDictionary[depth])\n",
    "            evaluatedCriterias.append(criteria)\n",
    "    \n",
    "    return pd.DataFrame({ 'Altura Máxima' : evaluatedDepths,\n",
    "                          'Criterio de evaluación de corte' : evaluatedCriterias,\n",
    "                          'Accuracy (training)' : trainingResults,\n",
    "                          'Accuracy (validación)' : validationResults}).sort_values(by=['Criterio de evaluación de corte'],ascending=False)"
   ]
  },
  {
   "cell_type": "markdown",
   "metadata": {},
   "source": [
    "# Tabla con combinaciones"
   ]
  },
  {
   "cell_type": "code",
   "execution_count": 8,
   "metadata": {},
   "outputs": [
    {
     "data": {
      "text/html": [
       "<div>\n",
       "<style scoped>\n",
       "    .dataframe tbody tr th:only-of-type {\n",
       "        vertical-align: middle;\n",
       "    }\n",
       "\n",
       "    .dataframe tbody tr th {\n",
       "        vertical-align: top;\n",
       "    }\n",
       "\n",
       "    .dataframe thead th {\n",
       "        text-align: right;\n",
       "    }\n",
       "</style>\n",
       "<table border=\"1\" class=\"dataframe\">\n",
       "  <thead>\n",
       "    <tr style=\"text-align: right;\">\n",
       "      <th></th>\n",
       "      <th>Altura Máxima</th>\n",
       "      <th>Criterio de evaluación de corte</th>\n",
       "      <th>Accuracy (training)</th>\n",
       "      <th>Accuracy (validación)</th>\n",
       "    </tr>\n",
       "  </thead>\n",
       "  <tbody>\n",
       "    <tr>\n",
       "      <th>0</th>\n",
       "      <td>3</td>\n",
       "      <td>gini</td>\n",
       "      <td>0.819515</td>\n",
       "      <td>0.652829</td>\n",
       "    </tr>\n",
       "    <tr>\n",
       "      <th>2</th>\n",
       "      <td>5</td>\n",
       "      <td>gini</td>\n",
       "      <td>0.928154</td>\n",
       "      <td>0.664272</td>\n",
       "    </tr>\n",
       "    <tr>\n",
       "      <th>4</th>\n",
       "      <td>Infinito</td>\n",
       "      <td>gini</td>\n",
       "      <td>1.000000</td>\n",
       "      <td>0.636683</td>\n",
       "    </tr>\n",
       "    <tr>\n",
       "      <th>1</th>\n",
       "      <td>3</td>\n",
       "      <td>entropy</td>\n",
       "      <td>0.791947</td>\n",
       "      <td>0.682955</td>\n",
       "    </tr>\n",
       "    <tr>\n",
       "      <th>3</th>\n",
       "      <td>5</td>\n",
       "      <td>entropy</td>\n",
       "      <td>0.917243</td>\n",
       "      <td>0.696879</td>\n",
       "    </tr>\n",
       "    <tr>\n",
       "      <th>5</th>\n",
       "      <td>Infinito</td>\n",
       "      <td>entropy</td>\n",
       "      <td>1.000000</td>\n",
       "      <td>0.689822</td>\n",
       "    </tr>\n",
       "  </tbody>\n",
       "</table>\n",
       "</div>"
      ],
      "text/plain": [
       "  Altura Máxima Criterio de evaluación de corte  Accuracy (training)  \\\n",
       "0             3                            gini             0.819515   \n",
       "2             5                            gini             0.928154   \n",
       "4      Infinito                            gini             1.000000   \n",
       "1             3                         entropy             0.791947   \n",
       "3             5                         entropy             0.917243   \n",
       "5      Infinito                         entropy             1.000000   \n",
       "\n",
       "   Accuracy (validación)  \n",
       "0               0.652829  \n",
       "2               0.664272  \n",
       "4               0.636683  \n",
       "1               0.682955  \n",
       "3               0.696879  \n",
       "5               0.689822  "
      ]
     },
     "metadata": {},
     "output_type": "display_data"
    }
   ],
   "source": [
    "display(segundaTablaEjercicio2(DecisionTreeClassifier))  "
   ]
  },
  {
   "cell_type": "markdown",
   "metadata": {},
   "source": [
    "# Ejercicio Extra: Resultados para nuestro clasificador"
   ]
  },
  {
   "cell_type": "code",
   "execution_count": 9,
   "metadata": {},
   "outputs": [
    {
     "data": {
      "text/html": [
       "<div>\n",
       "<style scoped>\n",
       "    .dataframe tbody tr th:only-of-type {\n",
       "        vertical-align: middle;\n",
       "    }\n",
       "\n",
       "    .dataframe tbody tr th {\n",
       "        vertical-align: top;\n",
       "    }\n",
       "\n",
       "    .dataframe thead th {\n",
       "        text-align: right;\n",
       "    }\n",
       "</style>\n",
       "<table border=\"1\" class=\"dataframe\">\n",
       "  <thead>\n",
       "    <tr style=\"text-align: right;\">\n",
       "      <th></th>\n",
       "      <th>Partición</th>\n",
       "      <th>Accuracy (training)</th>\n",
       "      <th>Accuracy (validación)</th>\n",
       "      <th>ROC AUC (training)</th>\n",
       "      <th>ROC AUC( validación)</th>\n",
       "    </tr>\n",
       "  </thead>\n",
       "  <tbody>\n",
       "    <tr>\n",
       "      <th>0</th>\n",
       "      <td>1</td>\n",
       "      <td>0.763689</td>\n",
       "      <td>0.659091</td>\n",
       "      <td>0.817342</td>\n",
       "      <td>0.694271</td>\n",
       "    </tr>\n",
       "    <tr>\n",
       "      <th>1</th>\n",
       "      <td>2</td>\n",
       "      <td>0.784483</td>\n",
       "      <td>0.666667</td>\n",
       "      <td>0.829856</td>\n",
       "      <td>0.704255</td>\n",
       "    </tr>\n",
       "    <tr>\n",
       "      <th>2</th>\n",
       "      <td>3</td>\n",
       "      <td>0.798851</td>\n",
       "      <td>0.655172</td>\n",
       "      <td>0.845080</td>\n",
       "      <td>0.672606</td>\n",
       "    </tr>\n",
       "    <tr>\n",
       "      <th>3</th>\n",
       "      <td>4</td>\n",
       "      <td>0.761494</td>\n",
       "      <td>0.666667</td>\n",
       "      <td>0.817244</td>\n",
       "      <td>0.685372</td>\n",
       "    </tr>\n",
       "    <tr>\n",
       "      <th>4</th>\n",
       "      <td>5</td>\n",
       "      <td>0.779370</td>\n",
       "      <td>0.744186</td>\n",
       "      <td>0.820040</td>\n",
       "      <td>0.810147</td>\n",
       "    </tr>\n",
       "  </tbody>\n",
       "</table>\n",
       "</div>"
      ],
      "text/plain": [
       "   Partición  Accuracy (training)  Accuracy (validación)  ROC AUC (training)  \\\n",
       "0          1             0.763689               0.659091            0.817342   \n",
       "1          2             0.784483               0.666667            0.829856   \n",
       "2          3             0.798851               0.655172            0.845080   \n",
       "3          4             0.761494               0.666667            0.817244   \n",
       "4          5             0.779370               0.744186            0.820040   \n",
       "\n",
       "   ROC AUC( validación)  \n",
       "0              0.694271  \n",
       "1              0.704255  \n",
       "2              0.672606  \n",
       "3              0.685372  \n",
       "4              0.810147  "
      ]
     },
     "metadata": {},
     "output_type": "display_data"
    }
   ],
   "source": [
    "display(primerTablaEjercicio2(ourTree.MiClasificadorArbol))  "
   ]
  },
  {
   "cell_type": "code",
   "execution_count": 12,
   "metadata": {},
   "outputs": [
    {
     "data": {
      "text/html": [
       "<div>\n",
       "<style scoped>\n",
       "    .dataframe tbody tr th:only-of-type {\n",
       "        vertical-align: middle;\n",
       "    }\n",
       "\n",
       "    .dataframe tbody tr th {\n",
       "        vertical-align: top;\n",
       "    }\n",
       "\n",
       "    .dataframe thead th {\n",
       "        text-align: right;\n",
       "    }\n",
       "</style>\n",
       "<table border=\"1\" class=\"dataframe\">\n",
       "  <thead>\n",
       "    <tr style=\"text-align: right;\">\n",
       "      <th></th>\n",
       "      <th>Altura Máxima</th>\n",
       "      <th>Criterio de evaluación de corte</th>\n",
       "      <th>Accuracy (training)</th>\n",
       "      <th>Accuracy (validación)</th>\n",
       "    </tr>\n",
       "  </thead>\n",
       "  <tbody>\n",
       "    <tr>\n",
       "      <th>0</th>\n",
       "      <td>3</td>\n",
       "      <td>gini</td>\n",
       "      <td>0.777577</td>\n",
       "      <td>0.678357</td>\n",
       "    </tr>\n",
       "    <tr>\n",
       "      <th>2</th>\n",
       "      <td>5</td>\n",
       "      <td>gini</td>\n",
       "      <td>0.883911</td>\n",
       "      <td>0.632031</td>\n",
       "    </tr>\n",
       "    <tr>\n",
       "      <th>4</th>\n",
       "      <td>Infinito</td>\n",
       "      <td>gini</td>\n",
       "      <td>1.000000</td>\n",
       "      <td>0.590756</td>\n",
       "    </tr>\n",
       "    <tr>\n",
       "      <th>1</th>\n",
       "      <td>3</td>\n",
       "      <td>entropy</td>\n",
       "      <td>0.766674</td>\n",
       "      <td>0.676058</td>\n",
       "    </tr>\n",
       "    <tr>\n",
       "      <th>3</th>\n",
       "      <td>5</td>\n",
       "      <td>entropy</td>\n",
       "      <td>0.863816</td>\n",
       "      <td>0.662264</td>\n",
       "    </tr>\n",
       "    <tr>\n",
       "      <th>5</th>\n",
       "      <td>Infinito</td>\n",
       "      <td>entropy</td>\n",
       "      <td>1.000000</td>\n",
       "      <td>0.655392</td>\n",
       "    </tr>\n",
       "  </tbody>\n",
       "</table>\n",
       "</div>"
      ],
      "text/plain": [
       "  Altura Máxima Criterio de evaluación de corte  Accuracy (training)  \\\n",
       "0             3                            gini             0.777577   \n",
       "2             5                            gini             0.883911   \n",
       "4      Infinito                            gini             1.000000   \n",
       "1             3                         entropy             0.766674   \n",
       "3             5                         entropy             0.863816   \n",
       "5      Infinito                         entropy             1.000000   \n",
       "\n",
       "   Accuracy (validación)  \n",
       "0               0.678357  \n",
       "2               0.632031  \n",
       "4               0.590756  \n",
       "1               0.676058  \n",
       "3               0.662264  \n",
       "5               0.655392  "
      ]
     },
     "metadata": {},
     "output_type": "display_data"
    }
   ],
   "source": [
    "display(segundaTablaEjercicio2(ourTree.MiClasificadorArbol))\n",
    "#esta tabla tardo 10 minutos en crearse, ver como mejorar performance"
   ]
  },
  {
   "cell_type": "markdown",
   "metadata": {},
   "source": [
    "# Grid Search"
   ]
  },
  {
   "cell_type": "markdown",
   "metadata": {},
   "source": [
    "### ensayo Grid Search para el arbol que usamos antes"
   ]
  },
  {
   "cell_type": "code",
   "execution_count": 10,
   "metadata": {},
   "outputs": [
    {
     "name": "stdout",
     "output_type": "stream",
     "text": [
      "0.6937245800176834 {'criterion': 'entropy', 'max_depth': 6}\n"
     ]
    }
   ],
   "source": [
    "roc_auc_score = make_scorer(roc_auc_score)\n",
    "param_grid = {'max_depth': np.arange(3, 10),'criterion': ('gini','entropy')}\n",
    "\n",
    "arbol_grid = GridSearchCV(DecisionTreeClassifier(), param_grid,cv=kfold, scoring=roc_auc_score)\n",
    "arbol_grid.fit(X_desarrollo, y_desarrollo)\n",
    "print(arbol_grid.best_score_ , arbol_grid.best_params_)"
   ]
  },
  {
   "cell_type": "markdown",
   "metadata": {},
   "source": [
    "### Ensayo de Grid  Knn"
   ]
  },
  {
   "cell_type": "code",
   "execution_count": 11,
   "metadata": {},
   "outputs": [
    {
     "name": "stdout",
     "output_type": "stream",
     "text": [
      "0.7296823403628246 {'n_neighbors': 8, 'p': 2}\n"
     ]
    }
   ],
   "source": [
    "vecinos_param_grid = {'n_neighbors': np.arange(3, 10),'p': np.arange(1,3)}\n",
    " \n",
    "\n",
    "vecinos_grid = GridSearchCV(KNeighborsClassifier(), vecinos_param_grid,cv=kfold, scoring=roc_auc_score)\n",
    "vecinos_grid.fit(X_desarrollo, y_desarrollo)\n",
    "print(vecinos_grid.best_score_,vecinos_grid.best_params_ )"
   ]
  },
  {
   "cell_type": "code",
   "execution_count": null,
   "metadata": {},
   "outputs": [],
   "source": []
  }
 ],
 "metadata": {
  "kernelspec": {
   "display_name": "Python 3",
   "language": "python",
   "name": "python3"
  },
  "language_info": {
   "codemirror_mode": {
    "name": "ipython",
    "version": 3
   },
   "file_extension": ".py",
   "mimetype": "text/x-python",
   "name": "python",
   "nbconvert_exporter": "python",
   "pygments_lexer": "ipython3",
   "version": "3.6.5"
  }
 },
 "nbformat": 4,
 "nbformat_minor": 2
}
