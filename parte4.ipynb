{
 "cells": [
  {
   "cell_type": "code",
   "execution_count": 1,
   "metadata": {},
   "outputs": [
    {
     "name": "stderr",
     "output_type": "stream",
     "text": [
      "/usr/local/lib/python2.7/dist-packages/sklearn/utils/fixes.py:313: FutureWarning: numpy not_equal will not check object identity in the future. The comparison did not return the same result as suggested by the identity (`is`)) and will change.\n",
      "  _nan_object_mask = _nan_object_array != _nan_object_array\n"
     ]
    }
   ],
   "source": [
    "import pandas as pd\n",
    "import numpy as np\n",
    "import scipy as sp\n",
    "from scipy.misc import comb\n",
    "from sklearn.model_selection import train_test_split , KFold, StratifiedKFold\n",
    "import matplotlib.pyplot as plt\n",
    "from sklearn.tree import DecisionTreeClassifier\n",
    "from sklearn.neighbors import KNeighborsClassifier\n",
    "from sklearn.discriminant_analysis import LinearDiscriminantAnalysis\n",
    "from sklearn.svm import SVC\n",
    "from sklearn.ensemble import RandomForestClassifier\n",
    "import pdb\n",
    "from sklearn.metrics import roc_auc_score , make_scorer\n",
    "from sklearn.model_selection import GridSearchCV, RandomizedSearchCV\n",
    "import NuestroArbol as ourTree\n",
    "import random\n",
    "from scipy.stats import randint as sp_randint\n",
    "from time import time\n",
    "import collections\n",
    "\n",
    "%matplotlib inline"
   ]
  },
  {
   "cell_type": "markdown",
   "metadata": {},
   "source": [
    "## Cargar datos "
   ]
  },
  {
   "cell_type": "code",
   "execution_count": 2,
   "metadata": {},
   "outputs": [],
   "source": [
    "X_comp = pd.read_csv('X_competencia.csv')\n",
    "X = pd.read_csv('X.csv',index_col=\"index\")\n",
    "y = pd.read_csv('y.csv',index_col=\"index\")"
   ]
  },
  {
   "cell_type": "code",
   "execution_count": 3,
   "metadata": {},
   "outputs": [
    {
     "data": {
      "text/plain": [
       "5"
      ]
     },
     "execution_count": 3,
     "metadata": {},
     "output_type": "execute_result"
    }
   ],
   "source": [
    "#partimos los datos en desarrollo(87%) y holdout(13%). \n",
    "X_desarrollo , X_holout ,y_desarrollo, y_holdout = train_test_split(X, y['output'],\n",
    "                                                                    test_size=0.13,random_state=0,stratify=y['output'])\n",
    "#pase los kfold aca arriba ya que se usan en varios lugares.\n",
    "#evaluar si esta bueno que siempre se usen los mismos folds\n",
    "kfold = StratifiedKFold(n_splits=5)\n",
    "kfold.get_n_splits(X_desarrollo,y_desarrollo)\n"
   ]
  },
  {
   "cell_type": "markdown",
   "metadata": {},
   "source": [
    "# Ejercicio 4"
   ]
  },
  {
   "cell_type": "markdown",
   "metadata": {},
   "source": [
    "### Diagnóstico Sesgo-Varianza. \n",
    "\n",
    "En este punto, se pide inspeccionar dos de sus mejores modelos encontrados hasta ahora: el mejor modelo de tipo árbol de decisión y el mejor de tipo SVM. Para ello:\n",
    "\n",
    "1. Graficar curvas de complejidad para cada modelo, variando la profundidad en el caso de árboles, y el hiperparámetro C en el caso de SVM. Diagnosticar cómo afectan al sesgo y a la varianza esos dos hiperparámetros.\n",
    "2. Graficar curvas de aprendizaje para cada modelo. En base a estas curvas, sacar conclusiones sobre si los algoritmos parecen haber alcanzado su límite, o bien si aumentar la cantidad de datos debería ayudar.\n",
    "3. Construir un modelo RandomForest con 200 árboles. Explorar para qué sirve el hiperparámetro max_features y cómo afecta a la performance del algoritmo mediante una curva de complejidad. Explicar por qué creen que se dieron los resultados obtenidos. Por último, graficar una curva de aprendizaje sobre los parámetros elegidos para determinar si sería útil o no conseguir más datos (usar  grid search para encontrar una buena combinación de parámetros).  \n",
    "\n",
    "\n",
    "**Atención**: Tener en cuenta que debemos seguir utilizando ROC AUC como métrica para estas curvas.\n",
    "\n",
    "**ver**: http://scikit-learn.org/stable/modules/learning_curve.html#learning-curve\n",
    "\n",
    "----\n",
    "**EJERCICIO EXTRA:** Utilizar RandomizedSearchCV para explorar la performance del algoritmo de Gradient Boosting y comparar con los resultados obtenidos en el punto (c).\n",
    "\n",
    "\n",
    "----\n",
    "\n"
   ]
  },
  {
   "cell_type": "markdown",
   "metadata": {},
   "source": [
    "# 4.1"
   ]
  },
  {
   "cell_type": "markdown",
   "metadata": {},
   "source": [
    "## - - - - - - - - - - - - - - - - - - - - - - - - - - - - - - - - - - - - - - - - - - - - - - - - - - - - - - - - - - - - - - - - - - - - - - "
   ]
  },
  {
   "cell_type": "markdown",
   "metadata": {},
   "source": [
    "### Arboles"
   ]
  },
  {
   "cell_type": "code",
   "execution_count": 15,
   "metadata": {
    "scrolled": true
   },
   "outputs": [
    {
     "data": {
      "text/html": [
       "<div>\n",
       "<style scoped>\n",
       "    .dataframe tbody tr th:only-of-type {\n",
       "        vertical-align: middle;\n",
       "    }\n",
       "\n",
       "    .dataframe tbody tr th {\n",
       "        vertical-align: top;\n",
       "    }\n",
       "\n",
       "    .dataframe thead th {\n",
       "        text-align: right;\n",
       "    }\n",
       "</style>\n",
       "<table border=\"1\" class=\"dataframe\">\n",
       "  <thead>\n",
       "    <tr style=\"text-align: right;\">\n",
       "      <th></th>\n",
       "      <th>train_score_err</th>\n",
       "      <th>train_score_mean</th>\n",
       "      <th>val_score_err</th>\n",
       "      <th>val_score_mean</th>\n",
       "    </tr>\n",
       "  </thead>\n",
       "  <tbody>\n",
       "    <tr>\n",
       "      <th>1</th>\n",
       "      <td>0.009820</td>\n",
       "      <td>0.708113</td>\n",
       "      <td>0.031808</td>\n",
       "      <td>0.655714</td>\n",
       "    </tr>\n",
       "    <tr>\n",
       "      <th>2</th>\n",
       "      <td>0.013465</td>\n",
       "      <td>0.714335</td>\n",
       "      <td>0.015673</td>\n",
       "      <td>0.663084</td>\n",
       "    </tr>\n",
       "    <tr>\n",
       "      <th>3</th>\n",
       "      <td>0.018214</td>\n",
       "      <td>0.789064</td>\n",
       "      <td>0.056431</td>\n",
       "      <td>0.679687</td>\n",
       "    </tr>\n",
       "    <tr>\n",
       "      <th>4</th>\n",
       "      <td>0.012501</td>\n",
       "      <td>0.840352</td>\n",
       "      <td>0.026974</td>\n",
       "      <td>0.659504</td>\n",
       "    </tr>\n",
       "    <tr>\n",
       "      <th>5</th>\n",
       "      <td>0.008941</td>\n",
       "      <td>0.917444</td>\n",
       "      <td>0.048227</td>\n",
       "      <td>0.693967</td>\n",
       "    </tr>\n",
       "    <tr>\n",
       "      <th>6</th>\n",
       "      <td>0.012479</td>\n",
       "      <td>0.959011</td>\n",
       "      <td>0.043831</td>\n",
       "      <td>0.686398</td>\n",
       "    </tr>\n",
       "    <tr>\n",
       "      <th>7</th>\n",
       "      <td>0.004723</td>\n",
       "      <td>0.986262</td>\n",
       "      <td>0.050380</td>\n",
       "      <td>0.686157</td>\n",
       "    </tr>\n",
       "    <tr>\n",
       "      <th>8</th>\n",
       "      <td>0.002759</td>\n",
       "      <td>0.994103</td>\n",
       "      <td>0.033897</td>\n",
       "      <td>0.684182</td>\n",
       "    </tr>\n",
       "    <tr>\n",
       "      <th>9</th>\n",
       "      <td>0.000000</td>\n",
       "      <td>1.000000</td>\n",
       "      <td>0.041421</td>\n",
       "      <td>0.690671</td>\n",
       "    </tr>\n",
       "    <tr>\n",
       "      <th>10</th>\n",
       "      <td>0.000000</td>\n",
       "      <td>1.000000</td>\n",
       "      <td>0.037279</td>\n",
       "      <td>0.703153</td>\n",
       "    </tr>\n",
       "    <tr>\n",
       "      <th>11</th>\n",
       "      <td>0.000000</td>\n",
       "      <td>1.000000</td>\n",
       "      <td>0.059639</td>\n",
       "      <td>0.697251</td>\n",
       "    </tr>\n",
       "    <tr>\n",
       "      <th>12</th>\n",
       "      <td>0.000000</td>\n",
       "      <td>1.000000</td>\n",
       "      <td>0.052625</td>\n",
       "      <td>0.680040</td>\n",
       "    </tr>\n",
       "    <tr>\n",
       "      <th>13</th>\n",
       "      <td>0.000000</td>\n",
       "      <td>1.000000</td>\n",
       "      <td>0.036636</td>\n",
       "      <td>0.679907</td>\n",
       "    </tr>\n",
       "    <tr>\n",
       "      <th>14</th>\n",
       "      <td>0.000000</td>\n",
       "      <td>1.000000</td>\n",
       "      <td>0.036608</td>\n",
       "      <td>0.696290</td>\n",
       "    </tr>\n",
       "    <tr>\n",
       "      <th>15</th>\n",
       "      <td>0.000000</td>\n",
       "      <td>1.000000</td>\n",
       "      <td>0.036187</td>\n",
       "      <td>0.692074</td>\n",
       "    </tr>\n",
       "    <tr>\n",
       "      <th>16</th>\n",
       "      <td>0.000000</td>\n",
       "      <td>1.000000</td>\n",
       "      <td>0.028578</td>\n",
       "      <td>0.688264</td>\n",
       "    </tr>\n",
       "    <tr>\n",
       "      <th>17</th>\n",
       "      <td>0.000000</td>\n",
       "      <td>1.000000</td>\n",
       "      <td>0.036997</td>\n",
       "      <td>0.709756</td>\n",
       "    </tr>\n",
       "    <tr>\n",
       "      <th>18</th>\n",
       "      <td>0.000000</td>\n",
       "      <td>1.000000</td>\n",
       "      <td>0.046067</td>\n",
       "      <td>0.692932</td>\n",
       "    </tr>\n",
       "    <tr>\n",
       "      <th>19</th>\n",
       "      <td>0.000000</td>\n",
       "      <td>1.000000</td>\n",
       "      <td>0.051125</td>\n",
       "      <td>0.695123</td>\n",
       "    </tr>\n",
       "    <tr>\n",
       "      <th>20</th>\n",
       "      <td>0.000000</td>\n",
       "      <td>1.000000</td>\n",
       "      <td>0.051431</td>\n",
       "      <td>0.695937</td>\n",
       "    </tr>\n",
       "  </tbody>\n",
       "</table>\n",
       "</div>"
      ],
      "text/plain": [
       "    train_score_err  train_score_mean  val_score_err  val_score_mean\n",
       "1          0.009820          0.708113       0.031808        0.655714\n",
       "2          0.013465          0.714335       0.015673        0.663084\n",
       "3          0.018214          0.789064       0.056431        0.679687\n",
       "4          0.012501          0.840352       0.026974        0.659504\n",
       "5          0.008941          0.917444       0.048227        0.693967\n",
       "6          0.012479          0.959011       0.043831        0.686398\n",
       "7          0.004723          0.986262       0.050380        0.686157\n",
       "8          0.002759          0.994103       0.033897        0.684182\n",
       "9          0.000000          1.000000       0.041421        0.690671\n",
       "10         0.000000          1.000000       0.037279        0.703153\n",
       "11         0.000000          1.000000       0.059639        0.697251\n",
       "12         0.000000          1.000000       0.052625        0.680040\n",
       "13         0.000000          1.000000       0.036636        0.679907\n",
       "14         0.000000          1.000000       0.036608        0.696290\n",
       "15         0.000000          1.000000       0.036187        0.692074\n",
       "16         0.000000          1.000000       0.028578        0.688264\n",
       "17         0.000000          1.000000       0.036997        0.709756\n",
       "18         0.000000          1.000000       0.046067        0.692932\n",
       "19         0.000000          1.000000       0.051125        0.695123\n",
       "20         0.000000          1.000000       0.051431        0.695937"
      ]
     },
     "execution_count": 15,
     "metadata": {},
     "output_type": "execute_result"
    }
   ],
   "source": [
    "params=range(1,21) # depths\n",
    "\n",
    "dic={}\n",
    "for d in params:\n",
    "    ROC_AUC_train=[]\n",
    "    ROC_AUC_val=[]\n",
    "    \n",
    "    for train, test  in kfold.split(X_desarrollo,y_desarrollo):\n",
    "        X_train, X_val = X_desarrollo.iloc[train], X_desarrollo.iloc[test]\n",
    "        y_train, y_val = y_desarrollo.iloc[train], y_desarrollo.iloc[test]\n",
    "\n",
    "        model=DecisionTreeClassifier(max_depth=d,criterion='entropy')\n",
    "        model.fit(X_train,y_train)\n",
    "\n",
    "        ROC_AUC_train.append(roc_auc_score(y_train,model.predict(X_train)))\n",
    "        ROC_AUC_val.append(roc_auc_score(y_val,model.predict(X_val)))\n",
    "        \n",
    "    tsm=np.mean(ROC_AUC_train)\n",
    "    tse=np.std(ROC_AUC_train)\n",
    "    vsm=np.mean(ROC_AUC_val)\n",
    "    vse=np.std(ROC_AUC_val)\n",
    "    \n",
    "    dic[d]={\"train_score_mean\":tsm,\"train_score_err\":tse,\"val_score_mean\":vsm,\"val_score_err\":vse}\n",
    "\n",
    "df=pd.DataFrame(dic).T\n",
    "df.reindex(params)"
   ]
  },
  {
   "cell_type": "code",
   "execution_count": 5,
   "metadata": {
    "scrolled": true
   },
   "outputs": [
    {
     "data": {
      "image/png": "[encoded data removed]",
      "text/plain": [
       "<Figure size 432x288 with 1 Axes>"
      ]
     },
     "metadata": {
      "needs_background": "light"
     },
     "output_type": "display_data"
    }
   ],
   "source": [
    "plt.plot(df.index,df.train_score_mean,color=\"b\",label=\"Train\")\n",
    "plt.fill_between(df.index, df.train_score_mean - df.train_score_err,\n",
    "                 df.train_score_mean + df.train_score_err, alpha=0.3,color=\"b\")\n",
    "\n",
    "plt.plot(df.index,df.val_score_mean,color=\"r\",label=\"Validation\")\n",
    "plt.fill_between(df.index, df.val_score_mean - df.val_score_err,\n",
    "                 df.val_score_mean + df.val_score_err, alpha=0.3,color=\"r\")\n",
    "\n",
    "plt.xlabel(\"Maximum depth\")\n",
    "plt.ylabel(\"AUC_score\")\n",
    "plt.legend()\n",
    "plt.show()"
   ]
  },
  {
   "cell_type": "markdown",
   "metadata": {},
   "source": [
    "### SVC"
   ]
  },
  {
   "cell_type": "code",
   "execution_count": 11,
   "metadata": {
    "scrolled": true
   },
   "outputs": [
    {
     "data": {
      "text/html": [
       "<div>\n",
       "<style scoped>\n",
       "    .dataframe tbody tr th:only-of-type {\n",
       "        vertical-align: middle;\n",
       "    }\n",
       "\n",
       "    .dataframe tbody tr th {\n",
       "        vertical-align: top;\n",
       "    }\n",
       "\n",
       "    .dataframe thead th {\n",
       "        text-align: right;\n",
       "    }\n",
       "</style>\n",
       "<table border=\"1\" class=\"dataframe\">\n",
       "  <thead>\n",
       "    <tr style=\"text-align: right;\">\n",
       "      <th></th>\n",
       "      <th>train_score_err</th>\n",
       "      <th>train_score_mean</th>\n",
       "      <th>val_score_err</th>\n",
       "      <th>val_score_mean</th>\n",
       "    </tr>\n",
       "  </thead>\n",
       "  <tbody>\n",
       "    <tr>\n",
       "      <th>10</th>\n",
       "      <td>0.0</td>\n",
       "      <td>1.0</td>\n",
       "      <td>0.038927</td>\n",
       "      <td>0.767768</td>\n",
       "    </tr>\n",
       "    <tr>\n",
       "      <th>25</th>\n",
       "      <td>0.0</td>\n",
       "      <td>1.0</td>\n",
       "      <td>0.038927</td>\n",
       "      <td>0.767768</td>\n",
       "    </tr>\n",
       "    <tr>\n",
       "      <th>50</th>\n",
       "      <td>0.0</td>\n",
       "      <td>1.0</td>\n",
       "      <td>0.038927</td>\n",
       "      <td>0.767768</td>\n",
       "    </tr>\n",
       "    <tr>\n",
       "      <th>100</th>\n",
       "      <td>0.0</td>\n",
       "      <td>1.0</td>\n",
       "      <td>0.038927</td>\n",
       "      <td>0.767768</td>\n",
       "    </tr>\n",
       "    <tr>\n",
       "      <th>250</th>\n",
       "      <td>0.0</td>\n",
       "      <td>1.0</td>\n",
       "      <td>0.038927</td>\n",
       "      <td>0.767768</td>\n",
       "    </tr>\n",
       "    <tr>\n",
       "      <th>500</th>\n",
       "      <td>0.0</td>\n",
       "      <td>1.0</td>\n",
       "      <td>0.038927</td>\n",
       "      <td>0.767768</td>\n",
       "    </tr>\n",
       "    <tr>\n",
       "      <th>1000</th>\n",
       "      <td>0.0</td>\n",
       "      <td>1.0</td>\n",
       "      <td>0.038927</td>\n",
       "      <td>0.767768</td>\n",
       "    </tr>\n",
       "  </tbody>\n",
       "</table>\n",
       "</div>"
      ],
      "text/plain": [
       "      train_score_err  train_score_mean  val_score_err  val_score_mean\n",
       "10                0.0               1.0       0.038927        0.767768\n",
       "25                0.0               1.0       0.038927        0.767768\n",
       "50                0.0               1.0       0.038927        0.767768\n",
       "100               0.0               1.0       0.038927        0.767768\n",
       "250               0.0               1.0       0.038927        0.767768\n",
       "500               0.0               1.0       0.038927        0.767768\n",
       "1000              0.0               1.0       0.038927        0.767768"
      ]
     },
     "execution_count": 11,
     "metadata": {},
     "output_type": "execute_result"
    }
   ],
   "source": [
    "# Tomo el mejor gamma y el mejor kernel encontrado mediante RandomSearch y GridSearch\n",
    "\n",
    "#params=[0.01,0.1,1,10,100,1000] # Cs\n",
    "params=[10,25,50,100,250,500,1000]\n",
    "#params=[50,60,70,80,90,100,110,120,130,140,150]\n",
    "\n",
    "dic={}\n",
    "for c in params:\n",
    "    ROC_AUC_train=[]\n",
    "    ROC_AUC_val=[]\n",
    "    \n",
    "    for train, test  in kfold.split(X_desarrollo,y_desarrollo):\n",
    "        X_train, X_val = X_desarrollo.iloc[train], X_desarrollo.iloc[test]\n",
    "        y_train, y_val = y_desarrollo.iloc[train], y_desarrollo.iloc[test]\n",
    "\n",
    "        model=SVC(C=c,kernel=\"rbf\",gamma=0.00707269)\n",
    "        model.fit(X_train,y_train)\n",
    "\n",
    "        ROC_AUC_train.append(roc_auc_score(y_train,model.predict(X_train)))\n",
    "        ROC_AUC_val.append(roc_auc_score(y_val,model.predict(X_val)))\n",
    "        \n",
    "    tsm=np.mean(ROC_AUC_train)\n",
    "    tse=np.std(ROC_AUC_train)\n",
    "    vsm=np.mean(ROC_AUC_val)\n",
    "    vse=np.std(ROC_AUC_val)\n",
    "    \n",
    "    dic[c]={\"train_score_mean\":tsm,\"train_score_err\":tse,\"val_score_mean\":vsm,\"val_score_err\":vse}\n",
    "\n",
    "df=pd.DataFrame(dic).T\n",
    "df.reindex(params)"
   ]
  },
  {
   "cell_type": "code",
   "execution_count": 12,
   "metadata": {},
   "outputs": [
    {
     "data": {
      "image/png": "[encoded data removed]",
      "text/plain": [
       "<Figure size 432x288 with 1 Axes>"
      ]
     },
     "metadata": {
      "needs_background": "light"
     },
     "output_type": "display_data"
    }
   ],
   "source": [
    "plt.plot(df.index,df.train_score_mean,color=\"b\",label=\"Train\")\n",
    "plt.fill_between(df.index, df.train_score_mean - df.train_score_err,\n",
    "                 df.train_score_mean + df.train_score_err, alpha=0.3,color=\"b\")\n",
    "\n",
    "plt.plot(df.index,df.val_score_mean,color=\"r\",label=\"Validation\")\n",
    "plt.fill_between(df.index, df.val_score_mean - df.val_score_err,\n",
    "                 df.val_score_mean + df.val_score_err, alpha=0.3,color=\"r\")\n",
    "\n",
    "plt.xlabel(\"C\")\n",
    "plt.ylabel(\"AUC_score\")\n",
    "plt.legend()\n",
    "plt.show()"
   ]
  },
  {
   "cell_type": "markdown",
   "metadata": {},
   "source": [
    "## :-:-:-:-:-:-:-:-:-:-:-:-:-:-:-:-:-:-:-:-:-:-:-:-:-:-:-:-:-:-:-:-:-:-:-:-:-:-:-:-:-:-:-:-:-:-:-:-:-:-:-:-:-:-:-:-:-:-:-:-:-:-:-:-"
   ]
  },
  {
   "cell_type": "markdown",
   "metadata": {},
   "source": [
    "# 4.2"
   ]
  },
  {
   "cell_type": "markdown",
   "metadata": {},
   "source": [
    "## - - - - - - - - - - - - - - - - - - - - - - - - - - - - - - - - - - - - - - - - - - - - - - - - - - - - - - - - - - - - - - - - - - - - - - "
   ]
  },
  {
   "cell_type": "code",
   "execution_count": 16,
   "metadata": {},
   "outputs": [],
   "source": [
    "from sklearn.model_selection import learning_curve\n",
    "from sklearn.model_selection import ShuffleSplit\n",
    "\n",
    "def plot_learning_curve(estimator, title, X, y, ylim=None, cv=None, n_jobs=None, train_sizes=np.linspace(.1, 1.0, 5),scoring='roc_auc'):\n",
    "\n",
    "    plt.figure()\n",
    "    plt.title(title)\n",
    "    if ylim is not None:\n",
    "        plt.ylim(*ylim)\n",
    "    plt.xlabel(\"Training examples\")\n",
    "    plt.ylabel(\"AUC Score\")\n",
    "    train_sizes, train_scores, test_scores = learning_curve(\n",
    "        estimator, X, y, cv=cv, n_jobs=n_jobs, train_sizes=train_sizes, scoring=scoring)\n",
    "    train_scores_mean = np.mean(train_scores, axis=1)\n",
    "    train_scores_std = np.std(train_scores, axis=1)\n",
    "    test_scores_mean = np.mean(test_scores, axis=1)\n",
    "    test_scores_std = np.std(test_scores, axis=1)\n",
    "    plt.grid()\n",
    "\n",
    "    plt.fill_between(train_sizes, train_scores_mean - train_scores_std,\n",
    "                     train_scores_mean + train_scores_std, alpha=0.3,\n",
    "                     color=\"r\")\n",
    "    plt.fill_between(train_sizes, test_scores_mean - test_scores_std,\n",
    "                     test_scores_mean + test_scores_std, alpha=0.3, color=\"g\")\n",
    "    plt.plot(train_sizes, train_scores_mean, 'o-', color=\"r\",\n",
    "             label=\"Training score\")\n",
    "    plt.plot(train_sizes, test_scores_mean, 'o-', color=\"g\",\n",
    "             label=\"Cross-validation score\")\n",
    "\n",
    "    plt.legend(loc=\"best\")\n",
    "    return plt"
   ]
  },
  {
   "cell_type": "markdown",
   "metadata": {},
   "source": [
    "### Árboles"
   ]
  },
  {
   "cell_type": "code",
   "execution_count": 19,
   "metadata": {},
   "outputs": [
    {
     "data": {
      "image/png": "[encoded data removed]",
      "text/plain": [
       "<Figure size 432x288 with 1 Axes>"
      ]
     },
     "metadata": {
      "needs_background": "light"
     },
     "output_type": "display_data"
    }
   ],
   "source": [
    "title = \"Learning Curves Trees\"\n",
    "\n",
    "kfold = StratifiedKFold(n_splits=5)\n",
    "kfold.get_n_splits(X_desarrollo,y_desarrollo)\n",
    "\n",
    "estimator = DecisionTreeClassifier(max_depth=10)\n",
    "plot_learning_curve(estimator, title, X_desarrollo, y_desarrollo, ylim=(0.3, 1.01), cv=kfold, n_jobs=-1)\n",
    "\n",
    "plt.show()"
   ]
  },
  {
   "cell_type": "markdown",
   "metadata": {},
   "source": [
    "### SVC"
   ]
  },
  {
   "cell_type": "code",
   "execution_count": 20,
   "metadata": {},
   "outputs": [
    {
     "data": {
      "image/png": "[encoded data removed]",
      "text/plain": [
       "<Figure size 432x288 with 1 Axes>"
      ]
     },
     "metadata": {
      "needs_background": "light"
     },
     "output_type": "display_data"
    }
   ],
   "source": [
    "title = \"Learning Curves SVC\"\n",
    "\n",
    "kfold = StratifiedKFold(n_splits=5)\n",
    "kfold.get_n_splits(X_desarrollo,y_desarrollo)\n",
    "\n",
    "estimator = SVC(C=50,kernel=\"rbf\",gamma=0.00707269)\n",
    "plot_learning_curve(estimator, title, X_desarrollo, y_desarrollo, ylim=(0.3, 1.01), cv=kfold, n_jobs=-1)\n",
    "\n",
    "plt.show()"
   ]
  },
  {
   "cell_type": "code",
   "execution_count": null,
   "metadata": {},
   "outputs": [],
   "source": []
  },
  {
   "cell_type": "markdown",
   "metadata": {},
   "source": [
    "## :-:-:-:-:-:-:-:-:-:-:-:-:-:-:-:-:-:-:-:-:-:-:-:-:-:-:-:-:-:-:-:-:-:-:-:-:-:-:-:-:-:-:-:-:-:-:-:-:-:-:-:-:-:-:-:-:-:-:-:-:-:-:-:-"
   ]
  },
  {
   "cell_type": "markdown",
   "metadata": {},
   "source": [
    "# 4.3"
   ]
  },
  {
   "cell_type": "markdown",
   "metadata": {},
   "source": [
    "## - - - - - - - - - - - - - - - - - - - - - - - - - - - - - - - - - - - - - - - - - - - - - - - - - - - - - - - - - - - - - - - - - - - - - - "
   ]
  },
  {
   "cell_type": "raw",
   "metadata": {},
   "source": [
    "Construir un modelo RandomForest con 200 árboles. Explorar para qué sirve el hiperparámetro max_features y cómo afecta a la performance del algoritmo mediante una curva de complejidad. Explicar por qué creen que se dieron los resultados obtenidos. Por último, graficar una curva de aprendizaje sobre los parámetros elegidos para determinar si sería útil o no conseguir más datos (usar grid search para encontrar una buena combinación de parámetros). "
   ]
  },
  {
   "cell_type": "markdown",
   "metadata": {},
   "source": [
    "### GridSearch"
   ]
  },
  {
   "cell_type": "code",
   "execution_count": null,
   "metadata": {},
   "outputs": [],
   "source": [
    "param_grid = {'max_features': ['sqrt', 'log2']+range(0,201,20)[1:],\n",
    "              'max_depth' : range(4,20),\n",
    "              'criterion' :['gini', 'entropy']}\n",
    "\n",
    "model=RandomForestClassifier(n_estimators=200,random_state=42,n_jobs=-1)\n",
    "RFgrid = GridSearchCV(estimator=model, param_grid=param_grid, cv=kfold, scoring='roc_auc',n_jobs=-1)\n",
    "RFgrid.fit(X_desarrollo, y_desarrollo);\n",
    "\n",
    "RFgrid.best_estimator_"
   ]
  },
  {
   "cell_type": "markdown",
   "metadata": {},
   "source": [
    "### Curva de max_features"
   ]
  },
  {
   "cell_type": "code",
   "execution_count": 161,
   "metadata": {},
   "outputs": [],
   "source": [
    "params=range(0,20)[1:]\n",
    "\n",
    "dic={}\n",
    "for c in params:\n",
    "    ROC_AUC_train=[]\n",
    "    ROC_AUC_val=[]\n",
    "    \n",
    "    for train, test in kfold.split(X_desarrollo,y_desarrollo):\n",
    "        X_train, X_val = X_desarrollo.iloc[train], X_desarrollo.iloc[test]\n",
    "        y_train, y_val = y_desarrollo.iloc[train], y_desarrollo.iloc[test]\n",
    "\n",
    "#        model=RandomForestClassifier(bootstrap=True, class_weight=None, criterion='entropy', max_depth=11,max_features=c, \n",
    "#                                     max_leaf_nodes=None,min_impurity_decrease=0.0,min_impurity_split=None,\n",
    "#                                     min_samples_leaf=1, min_samples_split=2,min_weight_fraction_leaf=0.0,n_estimators=200, \n",
    "#                                     n_jobs=-1,oob_score=False,random_state=42,verbose=0, warm_start=False)\n",
    "        model=RFgrid.best_estimator_\n",
    "        model.max_features=c\n",
    "        model.fit(X_train,y_train)\n",
    "\n",
    "        ROC_AUC_train.append(roc_auc_score(y_train,model.predict(X_train)))\n",
    "        ROC_AUC_val.append(roc_auc_score(y_val,model.predict(X_val)))\n",
    "        \n",
    "    tsm=np.mean(ROC_AUC_train)\n",
    "    tse=np.std(ROC_AUC_train)\n",
    "    vsm=np.mean(ROC_AUC_val)\n",
    "    vse=np.std(ROC_AUC_val)\n",
    "    \n",
    "    dic[c]={\"train_score_mean\":tsm,\"train_score_err\":tse,\"val_score_mean\":vsm,\"val_score_err\":vse}\n",
    "\n",
    "df=pd.DataFrame(dic).T\n",
    "df.reindex(params);"
   ]
  },
  {
   "cell_type": "code",
   "execution_count": 162,
   "metadata": {},
   "outputs": [
    {
     "data": {
      "image/png": "[encoded data removed]",
      "text/plain": [
       "<Figure size 432x288 with 1 Axes>"
      ]
     },
     "metadata": {
      "needs_background": "light"
     },
     "output_type": "display_data"
    }
   ],
   "source": [
    "plt.plot(df.index,df.train_score_mean,color=\"b\",label=\"Train\")\n",
    "plt.fill_between(df.index, df.train_score_mean - df.train_score_err,\n",
    "                 df.train_score_mean + df.train_score_err, alpha=0.3,color=\"b\")\n",
    "\n",
    "plt.plot(df.index,df.val_score_mean,color=\"r\",label=\"Validation\")\n",
    "plt.fill_between(df.index, df.val_score_mean - df.val_score_err,\n",
    "                 df.val_score_mean + df.val_score_err, alpha=0.3,color=\"r\")\n",
    "\n",
    "plt.xlabel(\"Max_features\")\n",
    "plt.ylabel(\"AUC_score\")\n",
    "plt.legend()\n",
    "plt.show()"
   ]
  },
  {
   "cell_type": "code",
   "execution_count": 287,
   "metadata": {},
   "outputs": [],
   "source": [
    "#df"
   ]
  },
  {
   "cell_type": "markdown",
   "metadata": {},
   "source": [
    "### Curva de aprendizaje"
   ]
  },
  {
   "cell_type": "code",
   "execution_count": 166,
   "metadata": {},
   "outputs": [
    {
     "data": {
      "image/png": "[encoded data removed]",
      "text/plain": [
       "<Figure size 432x288 with 1 Axes>"
      ]
     },
     "metadata": {
      "needs_background": "light"
     },
     "output_type": "display_data"
    }
   ],
   "source": [
    "#model = RandomForestClassifier(bootstrap=True, class_weight=None, criterion='entropy', max_depth=11,max_features=15, \n",
    "#                               max_leaf_nodes=None,min_impurity_decrease=0.0,min_impurity_split=None,min_samples_leaf=1, \n",
    "#                               min_samples_split=2,min_weight_fraction_leaf=0.0,n_estimators=200, n_jobs=-1,\n",
    "#                               oob_score=False,random_state=42,verbose=0, warm_start=False)\n",
    "\n",
    "model=RFgrid.best_estimator_\n",
    "\n",
    "title = \"Learning Curves RF\"\n",
    "plot_learning_curve(model, title, X_desarrollo, y_desarrollo, ylim=(0.3, 1.01), cv=kfold, n_jobs=-1)\n",
    "\n",
    "plt.show()"
   ]
  },
  {
   "cell_type": "markdown",
   "metadata": {},
   "source": [
    "## :-:-:-:-:-:-:-:-:-:-:-:-:-:-:-:-:-:-:-:-:-:-:-:-:-:-:-:-:-:-:-:-:-:-:-:-:-:-:-:-:-:-:-:-:-:-:-:-:-:-:-:-:-:-:-:-:-:-:-:-:-:-:-:-"
   ]
  },
  {
   "cell_type": "markdown",
   "metadata": {},
   "source": [
    "# Ejercicio Extra"
   ]
  },
  {
   "cell_type": "markdown",
   "metadata": {},
   "source": [
    "## - - - - - - - - - - - - - - - - - - - - - - - - - - - - - - - - - - - - - - - - - - - - - - - - - - - - - - - - - - - - - - - - - - - - - - "
   ]
  },
  {
   "cell_type": "markdown",
   "metadata": {},
   "source": [
    "EJERCICIO EXTRA: Utilizar RandomizedSearchCV para explorar la performance del algoritmo de Gradient Boosting y comparar con los resultados obtenidos en el punto (c)."
   ]
  },
  {
   "cell_type": "code",
   "execution_count": 169,
   "metadata": {},
   "outputs": [],
   "source": [
    "from sklearn.ensemble import GradientBoostingClassifier\n",
    "from sklearn.metrics import classification_report, confusion_matrix, roc_curve, auc"
   ]
  },
  {
   "cell_type": "code",
   "execution_count": 288,
   "metadata": {},
   "outputs": [
    {
     "data": {
      "text/plain": [
       "GradientBoostingClassifier(criterion='friedman_mse', init=None,\n",
       "              learning_rate=0.039069399370546168, loss='deviance',\n",
       "              max_depth=12, max_features='log2', max_leaf_nodes=None,\n",
       "              min_impurity_decrease=0.0, min_impurity_split=None,\n",
       "              min_samples_leaf=1, min_samples_split=2,\n",
       "              min_weight_fraction_leaf=0.0, n_estimators=175,\n",
       "              n_iter_no_change=None, presort='auto', random_state=0,\n",
       "              subsample=1.0, tol=0.0001, validation_fraction=0.1,\n",
       "              verbose=0, warm_start=False)"
      ]
     },
     "execution_count": 288,
     "metadata": {},
     "output_type": "execute_result"
    }
   ],
   "source": [
    "param_grid = {'max_features': ['sqrt', 'log2']+range(0,201,20)[1:],\n",
    "              'max_depth' : sp.stats.randint(2,20), \n",
    "              'learning_rate': np.logspace(-3,0,num=50),\n",
    "              'n_estimators':sp.stats.randint(10,200)}\n",
    "\n",
    "model=GradientBoostingClassifier(random_state = 0)\n",
    "\n",
    "GBCgrid = RandomizedSearchCV(estimator=model, param_distributions=param_grid, cv=kfold, scoring='roc_auc',n_jobs=-1)\n",
    "GBCgrid.fit(X_desarrollo, y_desarrollo);\n",
    "\n",
    "GBCgrid.best_estimator_"
   ]
  },
  {
   "cell_type": "markdown",
   "metadata": {},
   "source": [
    "### Curva de aprendizaje"
   ]
  },
  {
   "cell_type": "code",
   "execution_count": 289,
   "metadata": {},
   "outputs": [
    {
     "data": {
      "image/png": "[encoded data removed]",
      "text/plain": [
       "<Figure size 432x288 with 1 Axes>"
      ]
     },
     "metadata": {
      "needs_background": "light"
     },
     "output_type": "display_data"
    }
   ],
   "source": [
    "model=GBCgrid.best_estimator_\n",
    "\n",
    "title = \"Learning Curves GBC\"\n",
    "plot_learning_curve(model, title, X_desarrollo, y_desarrollo, ylim=(0.3, 1.01), cv=kfold, n_jobs=-1)\n",
    "\n",
    "plt.show()"
   ]
  },
  {
   "cell_type": "code",
   "execution_count": 304,
   "metadata": {},
   "outputs": [
    {
     "data": {
      "text/plain": [
       "0.661904761904762"
      ]
     },
     "execution_count": 304,
     "metadata": {},
     "output_type": "execute_result"
    }
   ],
   "source": [
    "model=GBCgrid.best_estimator_\n",
    "model.fit(X_desarrollo,y_desarrollo)\n",
    "roc_auc_score(y_holdout,model.predict(X_holout))"
   ]
  },
  {
   "cell_type": "code",
   "execution_count": 303,
   "metadata": {},
   "outputs": [
    {
     "data": {
      "text/plain": [
       "0.75714285714285712"
      ]
     },
     "execution_count": 303,
     "metadata": {},
     "output_type": "execute_result"
    }
   ],
   "source": [
    "model=RFgrid.best_estimator_\n",
    "model.fit(X_desarrollo,y_desarrollo)\n",
    "roc_auc_score(y_holdout,model.predict(X_holout))"
   ]
  }
 ],
 "metadata": {
  "kernelspec": {
   "display_name": "Python 3",
   "language": "python",
   "name": "python3"
  },
  "language_info": {
   "codemirror_mode": {
    "name": "ipython",
    "version": 2
   },
   "file_extension": ".py",
   "mimetype": "text/x-python",
   "name": "python",
   "nbconvert_exporter": "python",
   "pygments_lexer": "ipython2",
   "version": "2.7.12"
  }
 },
 "nbformat": 4,
 "nbformat_minor": 2
}
