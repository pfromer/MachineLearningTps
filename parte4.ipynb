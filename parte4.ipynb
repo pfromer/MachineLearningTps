{
 "cells": [
  {
   "cell_type": "code",
   "execution_count": 18,
   "metadata": {},
   "outputs": [],
   "source": [
    "import pandas as pd\n",
    "import numpy as np\n",
    "import scipy as sp\n",
    "from scipy.misc import comb\n",
    "from sklearn.model_selection import train_test_split , KFold, StratifiedKFold\n",
    "import matplotlib.pyplot as plt\n",
    "from sklearn.tree import DecisionTreeClassifier\n",
    "from sklearn.neighbors import KNeighborsClassifier\n",
    "from sklearn.discriminant_analysis import LinearDiscriminantAnalysis\n",
    "from sklearn.svm import SVC\n",
    "import pdb\n",
    "from sklearn.metrics import roc_auc_score , make_scorer\n",
    "from sklearn.model_selection import GridSearchCV, RandomizedSearchCV\n",
    "import NuestroArbol as ourTree\n",
    "import random\n",
    "from scipy.stats import randint as sp_randint\n",
    "from time import time\n",
    "import collections\n",
    "\n",
    "%matplotlib inline"
   ]
  },
  {
   "cell_type": "markdown",
   "metadata": {},
   "source": [
    "## Cargar datos "
   ]
  },
  {
   "cell_type": "code",
   "execution_count": 19,
   "metadata": {},
   "outputs": [],
   "source": [
    "X_comp = pd.read_csv('X_competencia.csv')\n",
    "X = pd.read_csv('X.csv',index_col=\"index\")\n",
    "y = pd.read_csv('y.csv',index_col=\"index\")\n",
    "#X.drop(['index'],inplace=True, axis=1)\n",
    "#y.drop(['index'], inplace=True,axis=1)\n",
    "\n"
   ]
  },
  {
   "cell_type": "code",
   "execution_count": 20,
   "metadata": {},
   "outputs": [
    {
     "data": {
      "text/plain": [
       "5"
      ]
     },
     "execution_count": 20,
     "metadata": {},
     "output_type": "execute_result"
    }
   ],
   "source": [
    "#partimos los datos en desarrollo(87%) y holdout(13%). \n",
    "X_desarrollo , X_holout ,y_desarrollo, y_holdout = train_test_split(X, y['output'],\n",
    "                                                                    test_size=0.13,random_state=0,stratify=y['output'])\n",
    "#pase los kfold aca arriba ya que se usan en varios lugares.\n",
    "#evaluar si esta bueno que siempre se usen los mismos folds\n",
    "kfold = StratifiedKFold(n_splits=5)\n",
    "kfold.get_n_splits(X_desarrollo,y_desarrollo)\n"
   ]
  },
  {
   "cell_type": "markdown",
   "metadata": {},
   "source": [
    "# Ejercicio 4"
   ]
  },
  {
   "cell_type": "markdown",
   "metadata": {},
   "source": [
    "### Diagnóstico Sesgo-Varianza. \n",
    "\n",
    "En este punto, se pide inspeccionar dos de sus mejores modelos encontrados hasta ahora: el mejor modelo de tipo árbol de decisión y el mejor de tipo SVM. Para ello:\n",
    "\n",
    "1. Graficar curvas de complejidad para cada modelo, variando la profundidad en el caso de árboles, y el hiperparámetro C en el caso de SVM. Diagnosticar cómo afectan al sesgo y a la varianza esos dos hiperparámetros.\n",
    "2. Graficar curvas de aprendizaje para cada modelo. En base a estas curvas, sacar conclusiones sobre si los algoritmos parecen haber alcanzado su límite, o bien si aumentar la cantidad de datos debería ayudar.\n",
    "3. Construir un modelo RandomForest con 200 árboles. Explorar para qué sirve el hiperparámetro max_features y cómo afecta a la performance del algoritmo mediante una curva de complejidad. Explicar por qué creen que se dieron los resultados obtenidos. Por último, graficar una curva de aprendizaje sobre los parámetros elegidos para determinar si sería útil o no conseguir más datos (usar  grid search para encontrar una buena combinación de parámetros).  \n",
    "\n",
    "\n",
    "**Atención**: Tener en cuenta que debemos seguir utilizando ROC AUC como métrica para estas curvas.\n",
    "\n",
    "**ver**: http://scikit-learn.org/stable/modules/learning_curve.html#learning-curve\n",
    "\n",
    "----\n",
    "**EJERCICIO EXTRA:** Utilizar RandomizedSearchCV para explorar la performance del algoritmo de Gradient Boosting y comparar con los resultados obtenidos en el punto (c).\n",
    "\n",
    "\n",
    "----\n",
    "\n"
   ]
  },
  {
   "cell_type": "markdown",
   "metadata": {},
   "source": [
    "# 4.1"
   ]
  },
  {
   "cell_type": "code",
   "execution_count": null,
   "metadata": {},
   "outputs": [],
   "source": [
    "roc_auc_score = make_scorer(roc_auc_score)"
   ]
  },
  {
   "cell_type": "code",
   "execution_count": 21,
   "metadata": {},
   "outputs": [
    {
     "data": {
      "text/plain": [
       "5"
      ]
     },
     "execution_count": 21,
     "metadata": {},
     "output_type": "execute_result"
    }
   ],
   "source": [
    "kfold = StratifiedKFold(n_splits=5)\n",
    "kfold.get_n_splits(X_desarrollo,y_desarrollo)"
   ]
  },
  {
   "cell_type": "markdown",
   "metadata": {},
   "source": [
    "### Arboles"
   ]
  },
  {
   "cell_type": "code",
   "execution_count": 81,
   "metadata": {},
   "outputs": [
    {
     "data": {
      "text/html": [
       "<div>\n",
       "<style scoped>\n",
       "    .dataframe tbody tr th:only-of-type {\n",
       "        vertical-align: middle;\n",
       "    }\n",
       "\n",
       "    .dataframe tbody tr th {\n",
       "        vertical-align: top;\n",
       "    }\n",
       "\n",
       "    .dataframe thead th {\n",
       "        text-align: right;\n",
       "    }\n",
       "</style>\n",
       "<table border=\"1\" class=\"dataframe\">\n",
       "  <thead>\n",
       "    <tr style=\"text-align: right;\">\n",
       "      <th></th>\n",
       "      <th>train_score_err</th>\n",
       "      <th>train_score_mean</th>\n",
       "      <th>val_score_err</th>\n",
       "      <th>val_score_mean</th>\n",
       "    </tr>\n",
       "  </thead>\n",
       "  <tbody>\n",
       "    <tr>\n",
       "      <th>1</th>\n",
       "      <td>0.005866</td>\n",
       "      <td>0.714162</td>\n",
       "      <td>0.025802</td>\n",
       "      <td>0.664296</td>\n",
       "    </tr>\n",
       "    <tr>\n",
       "      <th>2</th>\n",
       "      <td>0.018133</td>\n",
       "      <td>0.726489</td>\n",
       "      <td>0.025496</td>\n",
       "      <td>0.639004</td>\n",
       "    </tr>\n",
       "    <tr>\n",
       "      <th>3</th>\n",
       "      <td>0.019006</td>\n",
       "      <td>0.814548</td>\n",
       "      <td>0.055542</td>\n",
       "      <td>0.641982</td>\n",
       "    </tr>\n",
       "    <tr>\n",
       "      <th>4</th>\n",
       "      <td>0.022052</td>\n",
       "      <td>0.874007</td>\n",
       "      <td>0.043433</td>\n",
       "      <td>0.661692</td>\n",
       "    </tr>\n",
       "    <tr>\n",
       "      <th>5</th>\n",
       "      <td>0.008896</td>\n",
       "      <td>0.925565</td>\n",
       "      <td>0.053284</td>\n",
       "      <td>0.672304</td>\n",
       "    </tr>\n",
       "    <tr>\n",
       "      <th>6</th>\n",
       "      <td>0.014444</td>\n",
       "      <td>0.964280</td>\n",
       "      <td>0.060145</td>\n",
       "      <td>0.654626</td>\n",
       "    </tr>\n",
       "    <tr>\n",
       "      <th>7</th>\n",
       "      <td>0.005260</td>\n",
       "      <td>0.988856</td>\n",
       "      <td>0.047530</td>\n",
       "      <td>0.672587</td>\n",
       "    </tr>\n",
       "    <tr>\n",
       "      <th>8</th>\n",
       "      <td>0.003465</td>\n",
       "      <td>0.997592</td>\n",
       "      <td>0.039352</td>\n",
       "      <td>0.668662</td>\n",
       "    </tr>\n",
       "    <tr>\n",
       "      <th>9</th>\n",
       "      <td>0.002500</td>\n",
       "      <td>0.998750</td>\n",
       "      <td>0.050473</td>\n",
       "      <td>0.663946</td>\n",
       "    </tr>\n",
       "    <tr>\n",
       "      <th>10</th>\n",
       "      <td>0.000000</td>\n",
       "      <td>1.000000</td>\n",
       "      <td>0.049284</td>\n",
       "      <td>0.664666</td>\n",
       "    </tr>\n",
       "    <tr>\n",
       "      <th>11</th>\n",
       "      <td>0.000000</td>\n",
       "      <td>1.000000</td>\n",
       "      <td>0.030205</td>\n",
       "      <td>0.644254</td>\n",
       "    </tr>\n",
       "    <tr>\n",
       "      <th>12</th>\n",
       "      <td>0.000000</td>\n",
       "      <td>1.000000</td>\n",
       "      <td>0.037479</td>\n",
       "      <td>0.648818</td>\n",
       "    </tr>\n",
       "    <tr>\n",
       "      <th>13</th>\n",
       "      <td>0.000000</td>\n",
       "      <td>1.000000</td>\n",
       "      <td>0.063821</td>\n",
       "      <td>0.676450</td>\n",
       "    </tr>\n",
       "    <tr>\n",
       "      <th>14</th>\n",
       "      <td>0.000000</td>\n",
       "      <td>1.000000</td>\n",
       "      <td>0.048539</td>\n",
       "      <td>0.665220</td>\n",
       "    </tr>\n",
       "    <tr>\n",
       "      <th>15</th>\n",
       "      <td>0.000000</td>\n",
       "      <td>1.000000</td>\n",
       "      <td>0.047184</td>\n",
       "      <td>0.674559</td>\n",
       "    </tr>\n",
       "    <tr>\n",
       "      <th>16</th>\n",
       "      <td>0.000000</td>\n",
       "      <td>1.000000</td>\n",
       "      <td>0.061715</td>\n",
       "      <td>0.683995</td>\n",
       "    </tr>\n",
       "    <tr>\n",
       "      <th>17</th>\n",
       "      <td>0.000000</td>\n",
       "      <td>1.000000</td>\n",
       "      <td>0.047336</td>\n",
       "      <td>0.659123</td>\n",
       "    </tr>\n",
       "    <tr>\n",
       "      <th>18</th>\n",
       "      <td>0.000000</td>\n",
       "      <td>1.000000</td>\n",
       "      <td>0.021409</td>\n",
       "      <td>0.671162</td>\n",
       "    </tr>\n",
       "    <tr>\n",
       "      <th>19</th>\n",
       "      <td>0.000000</td>\n",
       "      <td>1.000000</td>\n",
       "      <td>0.038975</td>\n",
       "      <td>0.664646</td>\n",
       "    </tr>\n",
       "    <tr>\n",
       "      <th>20</th>\n",
       "      <td>0.000000</td>\n",
       "      <td>1.000000</td>\n",
       "      <td>0.060418</td>\n",
       "      <td>0.661029</td>\n",
       "    </tr>\n",
       "  </tbody>\n",
       "</table>\n",
       "</div>"
      ],
      "text/plain": [
       "    train_score_err  train_score_mean  val_score_err  val_score_mean\n",
       "1          0.005866          0.714162       0.025802        0.664296\n",
       "2          0.018133          0.726489       0.025496        0.639004\n",
       "3          0.019006          0.814548       0.055542        0.641982\n",
       "4          0.022052          0.874007       0.043433        0.661692\n",
       "5          0.008896          0.925565       0.053284        0.672304\n",
       "6          0.014444          0.964280       0.060145        0.654626\n",
       "7          0.005260          0.988856       0.047530        0.672587\n",
       "8          0.003465          0.997592       0.039352        0.668662\n",
       "9          0.002500          0.998750       0.050473        0.663946\n",
       "10         0.000000          1.000000       0.049284        0.664666\n",
       "11         0.000000          1.000000       0.030205        0.644254\n",
       "12         0.000000          1.000000       0.037479        0.648818\n",
       "13         0.000000          1.000000       0.063821        0.676450\n",
       "14         0.000000          1.000000       0.048539        0.665220\n",
       "15         0.000000          1.000000       0.047184        0.674559\n",
       "16         0.000000          1.000000       0.061715        0.683995\n",
       "17         0.000000          1.000000       0.047336        0.659123\n",
       "18         0.000000          1.000000       0.021409        0.671162\n",
       "19         0.000000          1.000000       0.038975        0.664646\n",
       "20         0.000000          1.000000       0.060418        0.661029"
      ]
     },
     "execution_count": 81,
     "metadata": {},
     "output_type": "execute_result"
    }
   ],
   "source": [
    "Depths=[1,2,3,4,5,6,7,8,9,10,11,12,13,14,15,16,17,18,19,20]\n",
    "\n",
    "dic={}\n",
    "for d in Depths:\n",
    "    #print(c)\n",
    "    ROC_AUC_train=[]\n",
    "    ROC_AUC_val=[]\n",
    "    \n",
    "    for train, test  in kfold.split(X_desarrollo,y_desarrollo):\n",
    "        X_train, X_val = X_desarrollo.iloc[train], X_desarrollo.iloc[test]\n",
    "        y_train, y_val = y_desarrollo.iloc[train], y_desarrollo.iloc[test]\n",
    "\n",
    "        model=DecisionTreeClassifier(max_depth=d)\n",
    "        model.fit(X_train,y_train)\n",
    "\n",
    "        #print(roc_auc_score(y_train,model.predict(X_train)),roc_auc_score(y_val,model.predict(X_val)))\n",
    "        ROC_AUC_train.append(roc_auc_score(y_train,model.predict(X_train)))\n",
    "        ROC_AUC_val.append(roc_auc_score(y_val,model.predict(X_val)))\n",
    "        \n",
    "    tsm=np.mean(ROC_AUC_train)\n",
    "    tse=np.std(ROC_AUC_train)\n",
    "    vsm=np.mean(ROC_AUC_val)\n",
    "    vse=np.std(ROC_AUC_val)\n",
    "    \n",
    "    dic[d]={\"train_score_mean\":tsm,\"train_score_err\":tse,\"val_score_mean\":vsm,\"val_score_err\":vse}\n",
    "\n",
    "df=pd.DataFrame(dic).T\n",
    "df.reindex(Depths)"
   ]
  },
  {
   "cell_type": "code",
   "execution_count": 82,
   "metadata": {},
   "outputs": [
    {
     "data": {
      "image/png": "[encoded data removed]",
      "text/plain": [
       "<Figure size 432x288 with 1 Axes>"
      ]
     },
     "metadata": {
      "needs_background": "light"
     },
     "output_type": "display_data"
    }
   ],
   "source": [
    "plt.plot(df.index,df.train_score_mean,color=\"b\",label=\"Train\")\n",
    "plt.fill_between(df.index, df.train_score_mean - df.train_score_err,\n",
    "                 df.train_score_mean + df.train_score_err, alpha=0.3,color=\"b\")\n",
    "\n",
    "plt.plot(df.index,df.val_score_mean,color=\"r\",label=\"Validation\")\n",
    "plt.fill_between(df.index, df.val_score_mean - df.val_score_err,\n",
    "                 df.val_score_mean + df.val_score_err, alpha=0.3,color=\"r\")\n",
    "\n",
    "plt.xlabel(\"Maximum depth\")\n",
    "plt.ylabel(\"AUC_score\")\n",
    "plt.legend()\n",
    "plt.show()"
   ]
  },
  {
   "cell_type": "markdown",
   "metadata": {},
   "source": [
    "### SVC"
   ]
  },
  {
   "cell_type": "code",
   "execution_count": 79,
   "metadata": {},
   "outputs": [
    {
     "data": {
      "text/html": [
       "<div>\n",
       "<style scoped>\n",
       "    .dataframe tbody tr th:only-of-type {\n",
       "        vertical-align: middle;\n",
       "    }\n",
       "\n",
       "    .dataframe tbody tr th {\n",
       "        vertical-align: top;\n",
       "    }\n",
       "\n",
       "    .dataframe thead th {\n",
       "        text-align: right;\n",
       "    }\n",
       "</style>\n",
       "<table border=\"1\" class=\"dataframe\">\n",
       "  <thead>\n",
       "    <tr style=\"text-align: right;\">\n",
       "      <th></th>\n",
       "      <th>train_score_err</th>\n",
       "      <th>train_score_mean</th>\n",
       "      <th>val_score_err</th>\n",
       "      <th>val_score_mean</th>\n",
       "    </tr>\n",
       "  </thead>\n",
       "  <tbody>\n",
       "    <tr>\n",
       "      <th>1.0</th>\n",
       "      <td>0.011180</td>\n",
       "      <td>0.738827</td>\n",
       "      <td>0.029850</td>\n",
       "      <td>0.719352</td>\n",
       "    </tr>\n",
       "    <tr>\n",
       "      <th>2.5</th>\n",
       "      <td>0.015781</td>\n",
       "      <td>0.784775</td>\n",
       "      <td>0.028277</td>\n",
       "      <td>0.719491</td>\n",
       "    </tr>\n",
       "    <tr>\n",
       "      <th>5.0</th>\n",
       "      <td>0.005434</td>\n",
       "      <td>0.822168</td>\n",
       "      <td>0.033032</td>\n",
       "      <td>0.740820</td>\n",
       "    </tr>\n",
       "    <tr>\n",
       "      <th>10.0</th>\n",
       "      <td>0.004707</td>\n",
       "      <td>0.854120</td>\n",
       "      <td>0.042698</td>\n",
       "      <td>0.752243</td>\n",
       "    </tr>\n",
       "    <tr>\n",
       "      <th>25.0</th>\n",
       "      <td>0.005048</td>\n",
       "      <td>0.889977</td>\n",
       "      <td>0.058086</td>\n",
       "      <td>0.732265</td>\n",
       "    </tr>\n",
       "    <tr>\n",
       "      <th>50.0</th>\n",
       "      <td>0.006552</td>\n",
       "      <td>0.915037</td>\n",
       "      <td>0.061732</td>\n",
       "      <td>0.709495</td>\n",
       "    </tr>\n",
       "    <tr>\n",
       "      <th>100.0</th>\n",
       "      <td>0.007978</td>\n",
       "      <td>0.934348</td>\n",
       "      <td>0.062711</td>\n",
       "      <td>0.698637</td>\n",
       "    </tr>\n",
       "  </tbody>\n",
       "</table>\n",
       "</div>"
      ],
      "text/plain": [
       "       train_score_err  train_score_mean  val_score_err  val_score_mean\n",
       "1.0           0.011180          0.738827       0.029850        0.719352\n",
       "2.5           0.015781          0.784775       0.028277        0.719491\n",
       "5.0           0.005434          0.822168       0.033032        0.740820\n",
       "10.0          0.004707          0.854120       0.042698        0.752243\n",
       "25.0          0.005048          0.889977       0.058086        0.732265\n",
       "50.0          0.006552          0.915037       0.061732        0.709495\n",
       "100.0         0.007978          0.934348       0.062711        0.698637"
      ]
     },
     "execution_count": 79,
     "metadata": {},
     "output_type": "execute_result"
    }
   ],
   "source": [
    "# Tomo el mejor gamma y el mejor kernel encontrado mediante RandomSearch/GridSearch\n",
    "\n",
    "#Cs=[0.01,0.1,1,10,100,1000]\n",
    "Cs=[1,2.5,5,10,25,50,100]\n",
    "#Cs=[5,6,7,8,9,10,11,12,13,14,15]\n",
    "\n",
    "dic={}\n",
    "for c in Cs:\n",
    "    #print(c)\n",
    "    ROC_AUC_train=[]\n",
    "    ROC_AUC_val=[]\n",
    "    \n",
    "    for train, test  in kfold.split(X_desarrollo,y_desarrollo):\n",
    "        X_train, X_val = X_desarrollo.iloc[train], X_desarrollo.iloc[test]\n",
    "        y_train, y_val = y_desarrollo.iloc[train], y_desarrollo.iloc[test]\n",
    "\n",
    "        model=SVC(C=c,kernel=\"rbf\",gamma=0.0001)\n",
    "        model.fit(X_train,y_train)\n",
    "\n",
    "        #print(roc_auc_score(y_train,model.predict(X_train)),roc_auc_score(y_val,model.predict(X_val)))\n",
    "        ROC_AUC_train.append(roc_auc_score(y_train,model.predict(X_train)))\n",
    "        ROC_AUC_val.append(roc_auc_score(y_val,model.predict(X_val)))\n",
    "        \n",
    "    tsm=np.mean(ROC_AUC_train)\n",
    "    tse=np.std(ROC_AUC_train)\n",
    "    vsm=np.mean(ROC_AUC_val)\n",
    "    vse=np.std(ROC_AUC_val)\n",
    "    \n",
    "    dic[c]={\"train_score_mean\":tsm,\"train_score_err\":tse,\"val_score_mean\":vsm,\"val_score_err\":vse}\n",
    "\n",
    "df=pd.DataFrame(dic).T\n",
    "df.reindex(Cs)"
   ]
  },
  {
   "cell_type": "code",
   "execution_count": 80,
   "metadata": {},
   "outputs": [
    {
     "data": {
      "image/png": "[encoded data removed]",
      "text/plain": [
       "<Figure size 432x288 with 1 Axes>"
      ]
     },
     "metadata": {
      "needs_background": "light"
     },
     "output_type": "display_data"
    }
   ],
   "source": [
    "plt.plot(df.index,1-df.train_score_mean,color=\"b\")\n",
    "plt.fill_between(df.index, 1-(df.train_score_mean - df.train_score_err),\n",
    "                 1-(df.train_score_mean + df.train_score_err), alpha=0.3,color=\"b\")\n",
    "\n",
    "plt.plot(df.index,1-df.val_score_mean,color=\"r\")\n",
    "plt.fill_between(df.index, 1-(df.val_score_mean - df.val_score_err),\n",
    "                 1-(df.val_score_mean + df.val_score_err), alpha=0.3,color=\"r\")\n",
    "\n",
    "plt.xlabel(\"C\")\n",
    "plt.ylabel(\"1 - AUC_score\")\n",
    "plt.show()"
   ]
  },
  {
   "cell_type": "code",
   "execution_count": 61,
   "metadata": {},
   "outputs": [
    {
     "data": {
      "image/png": "[encoded data removed]",
      "text/plain": [
       "<Figure size 432x288 with 1 Axes>"
      ]
     },
     "metadata": {
      "needs_background": "light"
     },
     "output_type": "display_data"
    }
   ],
   "source": [
    "plt.plot(df.index,df.train_score_mean,color=\"b\",label=\"Train\")\n",
    "plt.fill_between(df.index, df.train_score_mean - df.train_score_err,\n",
    "                 df.train_score_mean + df.train_score_err, alpha=0.3,color=\"b\")\n",
    "\n",
    "plt.plot(df.index,df.val_score_mean,color=\"r\",label=\"Validation\")\n",
    "plt.fill_between(df.index, df.val_score_mean - df.val_score_err,\n",
    "                 df.val_score_mean + df.val_score_err, alpha=0.3,color=\"r\")\n",
    "\n",
    "plt.xlabel(\"C\")\n",
    "plt.ylabel(\"AUC_score\")\n",
    "plt.legend()\n",
    "plt.show()"
   ]
  },
  {
   "cell_type": "markdown",
   "metadata": {},
   "source": [
    "# 4.2"
   ]
  },
  {
   "cell_type": "code",
   "execution_count": 83,
   "metadata": {},
   "outputs": [],
   "source": [
    "from sklearn.model_selection import learning_curve\n",
    "from sklearn.model_selection import ShuffleSplit\n",
    "\n",
    "def plot_learning_curve(estimator, title, X, y, ylim=None, cv=None,\n",
    "                        n_jobs=None, train_sizes=np.linspace(.1, 1.0, 5),\n",
    "                        scoring='roc_auc'):\n",
    "    \"\"\"\n",
    "    Generate a simple plot of the test and training learning curve.\n",
    "\n",
    "    Parameters\n",
    "    ----------\n",
    "    estimator : object type that implements the \"fit\" and \"predict\" methods\n",
    "        An object of that type which is cloned for each validation.\n",
    "\n",
    "    title : string\n",
    "        Title for the chart.\n",
    "\n",
    "    X : array-like, shape (n_samples, n_features)\n",
    "        Training vector, where n_samples is the number of samples and\n",
    "        n_features is the number of features.\n",
    "\n",
    "    y : array-like, shape (n_samples) or (n_samples, n_features), optional\n",
    "        Target relative to X for classification or regression;\n",
    "        None for unsupervised learning.\n",
    "\n",
    "    ylim : tuple, shape (ymin, ymax), optional\n",
    "        Defines minimum and maximum yvalues plotted.\n",
    "\n",
    "    cv : int, cross-validation generator or an iterable, optional\n",
    "        Determines the cross-validation splitting strategy.\n",
    "        Possible inputs for cv are:\n",
    "          - None, to use the default 3-fold cross-validation,\n",
    "          - integer, to specify the number of folds.\n",
    "          - An object to be used as a cross-validation generator.\n",
    "          - An iterable yielding train/test splits.\n",
    "\n",
    "        For integer/None inputs, if ``y`` is binary or multiclass,\n",
    "        :class:`StratifiedKFold` used. If the estimator is not a classifier\n",
    "        or if ``y`` is neither binary nor multiclass, :class:`KFold` is used.\n",
    "\n",
    "        Refer :ref:`User Guide <cross_validation>` for the various\n",
    "        cross-validators that can be used here.\n",
    "\n",
    "    n_jobs : int or None, optional (default=None)\n",
    "        Number of jobs to run in parallel.\n",
    "        ``None`` means 1 unless in a :obj:`joblib.parallel_backend` context.\n",
    "        ``-1`` means using all processors. See :term:`Glossary <n_jobs>`\n",
    "        for more details.\n",
    "\n",
    "    train_sizes : array-like, shape (n_ticks,), dtype float or int\n",
    "        Relative or absolute numbers of training examples that will be used to\n",
    "        generate the learning curve. If the dtype is float, it is regarded as a\n",
    "        fraction of the maximum size of the training set (that is determined\n",
    "        by the selected validation method), i.e. it has to be within (0, 1].\n",
    "        Otherwise it is interpreted as absolute sizes of the training sets.\n",
    "        Note that for classification the number of samples usually have to\n",
    "        be big enough to contain at least one sample from each class.\n",
    "        (default: np.linspace(0.1, 1.0, 5))\n",
    "    \"\"\"\n",
    "    plt.figure()\n",
    "    plt.title(title)\n",
    "    if ylim is not None:\n",
    "        plt.ylim(*ylim)\n",
    "    plt.xlabel(\"Training examples\")\n",
    "    plt.ylabel(\"Score\")\n",
    "    train_sizes, train_scores, test_scores = learning_curve(\n",
    "        estimator, X, y, cv=cv, n_jobs=n_jobs, train_sizes=train_sizes, scoring=scoring)\n",
    "    train_scores_mean = np.mean(train_scores, axis=1)\n",
    "    train_scores_std = np.std(train_scores, axis=1)\n",
    "    test_scores_mean = np.mean(test_scores, axis=1)\n",
    "    test_scores_std = np.std(test_scores, axis=1)\n",
    "    plt.grid()\n",
    "\n",
    "    plt.fill_between(train_sizes, train_scores_mean - train_scores_std,\n",
    "                     train_scores_mean + train_scores_std, alpha=0.1,\n",
    "                     color=\"r\")\n",
    "    plt.fill_between(train_sizes, test_scores_mean - test_scores_std,\n",
    "                     test_scores_mean + test_scores_std, alpha=0.1, color=\"g\")\n",
    "    plt.plot(train_sizes, train_scores_mean, 'o-', color=\"r\",\n",
    "             label=\"Training score\")\n",
    "    plt.plot(train_sizes, test_scores_mean, 'o-', color=\"g\",\n",
    "             label=\"Cross-validation score\")\n",
    "\n",
    "    plt.legend(loc=\"best\")\n",
    "    return plt"
   ]
  },
  {
   "cell_type": "markdown",
   "metadata": {},
   "source": [
    "## Árboles"
   ]
  },
  {
   "cell_type": "code",
   "execution_count": 85,
   "metadata": {},
   "outputs": [
    {
     "data": {
      "image/png": "[encoded data removed]",
      "text/plain": [
       "<Figure size 432x288 with 1 Axes>"
      ]
     },
     "metadata": {
      "needs_background": "light"
     },
     "output_type": "display_data"
    }
   ],
   "source": [
    "title = \"Learning Curves Trees\"\n",
    "\n",
    "kfold = StratifiedKFold(n_splits=5)\n",
    "kfold.get_n_splits(X_desarrollo,y_desarrollo)\n",
    "\n",
    "estimator = DecisionTreeClassifier(max_depth=10)\n",
    "plot_learning_curve(estimator, title, X, y, ylim=(0.3, 1.01), cv=kfold, n_jobs=-1)\n",
    "\n",
    "#    title = \"Learning Curves (SVM, RBF kernel, $\\gamma=0.001$)\"\n",
    "#    # SVC is more expensive so we do a lower number of CV iterations:\n",
    "#    cv = ShuffleSplit(n_splits=10, test_size=0.2, random_state=0)\n",
    "#    estimator = SVC(gamma=0.001)\n",
    "#    plot_learning_curve(estimator, title, X, y, (0.7, 1.01), cv=cv, n_jobs=4)\n",
    "\n",
    "plt.show()"
   ]
  },
  {
   "cell_type": "code",
   "execution_count": 29,
   "metadata": {},
   "outputs": [],
   "source": [
    "dic={\"INT\":int}\n",
    "lista=[1,2,int]\n",
    "dic[\"INT\"](4.56)\n",
    "lista[2](4.56)"
   ]
  },
  {
   "cell_type": "code",
   "execution_count": null,
   "metadata": {},
   "outputs": [],
   "source": []
  },
  {
   "cell_type": "code",
   "execution_count": null,
   "metadata": {},
   "outputs": [],
   "source": []
  }
 ],
 "metadata": {
  "kernelspec": {
   "display_name": "Python 3",
   "language": "python",
   "name": "python3"
  },
  "language_info": {
   "codemirror_mode": {
    "name": "ipython",
    "version": 2
   },
   "file_extension": ".py",
   "mimetype": "text/x-python",
   "name": "python",
   "nbconvert_exporter": "python",
   "pygments_lexer": "ipython2",
   "version": "2.7.12"
  }
 },
 "nbformat": 4,
 "nbformat_minor": 2
}
