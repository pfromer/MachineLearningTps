{
 "cells": [
  {
   "cell_type": "code",
   "execution_count": 1,
   "metadata": {},
   "outputs": [],
   "source": [
    "import pandas as pd\n",
    "import numpy as np\n",
    "import scipy as sp\n",
    "from scipy.misc import comb\n",
    "from sklearn.model_selection import train_test_split , KFold, StratifiedKFold\n",
    "import matplotlib.pyplot as plt\n",
    "from sklearn.tree import DecisionTreeClassifier\n",
    "import pdb\n",
    "from sklearn.metrics import roc_auc_score\n",
    "\n",
    "%matplotlib inline"
   ]
  },
  {
   "cell_type": "markdown",
   "metadata": {},
   "source": [
    "# Importo datos "
   ]
  },
  {
   "cell_type": "code",
   "execution_count": 2,
   "metadata": {},
   "outputs": [
    {
     "data": {
      "text/plain": [
       "False"
      ]
     },
     "execution_count": 2,
     "metadata": {},
     "output_type": "execute_result"
    }
   ],
   "source": [
    "X_comp = pd.read_csv('X_competencia.csv')\n",
    "X = pd.read_csv('X.csv')\n",
    "y = pd.read_csv('y.csv')\n",
    "X.drop(['index'],inplace=True, axis=1)\n",
    "y.drop(['index'], inplace=True,axis=1)\n",
    "X.isnull().any().any()\n",
    "\n"
   ]
  },
  {
   "cell_type": "code",
   "execution_count": 3,
   "metadata": {},
   "outputs": [],
   "source": [
    "X_desarrollo , X_holout ,y_desarrollo, y_holdout = train_test_split(X, y['output'],\n",
    "                                                                    test_size=0.13,random_state=0,stratify=y['output'])\n",
    "y_desarrollo_np=np.array(y_desarrollo)\n"
   ]
  },
  {
   "cell_type": "markdown",
   "metadata": {},
   "source": [
    "### K-fold CV "
   ]
  },
  {
   "cell_type": "code",
   "execution_count": 4,
   "metadata": {},
   "outputs": [],
   "source": [
    "acc_train=[]\n",
    "acc_val=[]\n",
    "ROC_AUC_train=[]\n",
    "ROC_AUC_val=[]\n",
    "\n",
    "\n",
    "kfold = KFold(n_splits=5)\n",
    "kfold.get_n_splits(X_desarrollo)\n",
    "#este for itera sobre los k folds en cada loop tego un set de datos y otro de validacion\n",
    "for train, test  in kfold.split(X_desarrollo):\n",
    "    #print(\"TRAIN:\", train_index,'\\n', \"TEST:\", test_index,'\\n' )\n",
    "    X_train, X_val = X_desarrollo.iloc[train], X_desarrollo.iloc[test]\n",
    "    y_train, y_val = y_desarrollo_np[train], y_desarrollo_np[test]\n",
    "    #intancio el arbol que voy a entrenar en cada fold\n",
    "    arbol = DecisionTreeClassifier(max_depth=3, criterion=\"gini\")\n",
    "    \n",
    "    arbol.fit(X_train, y_train.astype(int))\n",
    "    acc_train.append(arbol.score(X=X_train, y=y_train))\n",
    "    acc_val.append(arbol.score(X=X_val, y=y_val))\n",
    "    ROC_AUC_train.append(roc_auc_score(y_train,arbol.predict(X_train)))\n",
    "    ROC_AUC_val.append(roc_auc_score(y_val,arbol.predict(X_val)))\n",
    "\n",
    "\n",
    "\n",
    "\n",
    "  #pdb.set_trace()    "
   ]
  },
  {
   "cell_type": "markdown",
   "metadata": {},
   "source": [
    "# Tabla de precision"
   ]
  },
  {
   "cell_type": "code",
   "execution_count": 5,
   "metadata": {},
   "outputs": [
    {
     "data": {
      "text/html": [
       "<div>\n",
       "<style scoped>\n",
       "    .dataframe tbody tr th:only-of-type {\n",
       "        vertical-align: middle;\n",
       "    }\n",
       "\n",
       "    .dataframe tbody tr th {\n",
       "        vertical-align: top;\n",
       "    }\n",
       "\n",
       "    .dataframe thead th {\n",
       "        text-align: right;\n",
       "    }\n",
       "</style>\n",
       "<table border=\"1\" class=\"dataframe\">\n",
       "  <thead>\n",
       "    <tr style=\"text-align: right;\">\n",
       "      <th></th>\n",
       "      <th>Partición</th>\n",
       "      <th>Accuracy(training)</th>\n",
       "      <th>Accuracy(validation)</th>\n",
       "      <th>ROC AUC(train)</th>\n",
       "      <th>ROC AUC(val)</th>\n",
       "    </tr>\n",
       "  </thead>\n",
       "  <tbody>\n",
       "    <tr>\n",
       "      <th>0</th>\n",
       "      <td>1</td>\n",
       "      <td>0.833333</td>\n",
       "      <td>0.689655</td>\n",
       "      <td>0.832781</td>\n",
       "      <td>0.689011</td>\n",
       "    </tr>\n",
       "    <tr>\n",
       "      <th>1</th>\n",
       "      <td>2</td>\n",
       "      <td>0.824713</td>\n",
       "      <td>0.678161</td>\n",
       "      <td>0.827297</td>\n",
       "      <td>0.676471</td>\n",
       "    </tr>\n",
       "    <tr>\n",
       "      <th>2</th>\n",
       "      <td>3</td>\n",
       "      <td>0.816092</td>\n",
       "      <td>0.620690</td>\n",
       "      <td>0.807595</td>\n",
       "      <td>0.613468</td>\n",
       "    </tr>\n",
       "    <tr>\n",
       "      <th>3</th>\n",
       "      <td>4</td>\n",
       "      <td>0.841954</td>\n",
       "      <td>0.609195</td>\n",
       "      <td>0.839314</td>\n",
       "      <td>0.593137</td>\n",
       "    </tr>\n",
       "    <tr>\n",
       "      <th>4</th>\n",
       "      <td>5</td>\n",
       "      <td>0.807471</td>\n",
       "      <td>0.632184</td>\n",
       "      <td>0.809435</td>\n",
       "      <td>0.620915</td>\n",
       "    </tr>\n",
       "  </tbody>\n",
       "</table>\n",
       "</div>"
      ],
      "text/plain": [
       "   Partición  Accuracy(training)  Accuracy(validation)  ROC AUC(train)  \\\n",
       "0          1            0.833333              0.689655        0.832781   \n",
       "1          2            0.824713              0.678161        0.827297   \n",
       "2          3            0.816092              0.620690        0.807595   \n",
       "3          4            0.841954              0.609195        0.839314   \n",
       "4          5            0.807471              0.632184        0.809435   \n",
       "\n",
       "   ROC AUC(val)  \n",
       "0      0.689011  \n",
       "1      0.676471  \n",
       "2      0.613468  \n",
       "3      0.593137  \n",
       "4      0.620915  "
      ]
     },
     "metadata": {},
     "output_type": "display_data"
    }
   ],
   "source": [
    "tabla_prec = pd.DataFrame({ 'Partición' : np.arange(1,6),'Accuracy(training)' :acc_train,\n",
    "                          'Accuracy(validation)' : acc_val,\n",
    "                          'ROC AUC(train)' : ROC_AUC_train,\n",
    "                          'ROC AUC(val)' : ROC_AUC_val})\n",
    "display(tabla_prec)  "
   ]
  }
 ],
 "metadata": {
  "kernelspec": {
   "display_name": "Python 3",
   "language": "python",
   "name": "python3"
  },
  "language_info": {
   "codemirror_mode": {
    "name": "ipython",
    "version": 3
   },
   "file_extension": ".py",
   "mimetype": "text/x-python",
   "name": "python",
   "nbconvert_exporter": "python",
   "pygments_lexer": "ipython3",
   "version": "3.7.0"
  }
 },
 "nbformat": 4,
 "nbformat_minor": 2
}
