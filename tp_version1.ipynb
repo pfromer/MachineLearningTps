{
 "cells": [
  {
   "cell_type": "code",
   "execution_count": 1,
   "metadata": {},
   "outputs": [],
   "source": [
    "import pandas as pd\n",
    "import numpy as np\n",
    "import scipy as sp\n",
    "from scipy.misc import comb\n",
    "from sklearn.model_selection import train_test_split , KFold, StratifiedKFold\n",
    "import matplotlib.pyplot as plt\n",
    "from sklearn.tree import DecisionTreeClassifier\n",
    "import pdb\n",
    "from sklearn.metrics import roc_auc_score\n",
    "\n",
    "%matplotlib inline"
   ]
  },
  {
   "cell_type": "markdown",
   "metadata": {},
   "source": [
    "# Importo datos "
   ]
  },
  {
   "cell_type": "code",
   "execution_count": 2,
   "metadata": {},
   "outputs": [],
   "source": [
    "X_comp = pd.read_csv('X_competencia.csv')\n",
    "X = pd.read_csv('X.csv')\n",
    "y = pd.read_csv('y.csv')\n",
    "X.drop(['index'],inplace=True, axis=1)\n",
    "y.drop(['index'], inplace=True,axis=1)\n",
    "\n"
   ]
  },
  {
   "cell_type": "code",
   "execution_count": 3,
   "metadata": {},
   "outputs": [],
   "source": [
    "X_desarrollo , X_holout ,y_desarrollo, y_holdout = train_test_split(X, y['output'],\n",
    "                                                                    test_size=0.13,random_state=0,stratify=y['output'])\n",
    "y_desarrollo_np=np.array(y_desarrollo)\n"
   ]
  },
  {
   "cell_type": "markdown",
   "metadata": {},
   "source": [
    "### K-fold CV "
   ]
  },
  {
   "cell_type": "code",
   "execution_count": 4,
   "metadata": {},
   "outputs": [],
   "source": [
    "acc_train=[]\n",
    "acc_val=[]\n",
    "ROC_AUC_train=[]\n",
    "ROC_AUC_val=[]\n",
    "\n",
    "\n",
    "kfold = StratifiedKFold(n_splits=5)\n",
    "kfold.get_n_splits(X_desarrollo,y_desarrollo)\n",
    "#este for itera sobre los k folds en cada loop tego un set de datos y otro de validacion\n",
    "for train, test  in kfold.split(X_desarrollo,y_desarrollo):\n",
    "    #print(\"TRAIN:\", train_index,'\\n', \"TEST:\", test_index,'\\n' )\n",
    "    X_train, X_val = X_desarrollo.iloc[train], X_desarrollo.iloc[test]\n",
    "    y_train, y_val = y_desarrollo_np[train], y_desarrollo_np[test]\n",
    "    #intancio el arbol que voy a entrenar en cada fold\n",
    "    arbol = DecisionTreeClassifier(max_depth=3, criterion=\"gini\")\n",
    "    \n",
    "    arbol.fit(X_train, y_train.astype(int))\n",
    "    acc_train.append(arbol.score(X=X_train, y=y_train))\n",
    "    acc_val.append(arbol.score(X=X_val, y=y_val))\n",
    "    ROC_AUC_train.append(roc_auc_score(y_train,arbol.predict(X_train)))\n",
    "    ROC_AUC_val.append(roc_auc_score(y_val,arbol.predict(X_val)))\n",
    "\n",
    "\n",
    "\n",
    "\n"
   ]
  },
  {
   "cell_type": "markdown",
   "metadata": {},
   "source": [
    "# Tabla de precision"
   ]
  },
  {
   "cell_type": "code",
   "execution_count": 5,
   "metadata": {},
   "outputs": [
    {
     "data": {
      "text/html": [
       "<div>\n",
       "<style scoped>\n",
       "    .dataframe tbody tr th:only-of-type {\n",
       "        vertical-align: middle;\n",
       "    }\n",
       "\n",
       "    .dataframe tbody tr th {\n",
       "        vertical-align: top;\n",
       "    }\n",
       "\n",
       "    .dataframe thead th {\n",
       "        text-align: right;\n",
       "    }\n",
       "</style>\n",
       "<table border=\"1\" class=\"dataframe\">\n",
       "  <thead>\n",
       "    <tr style=\"text-align: right;\">\n",
       "      <th></th>\n",
       "      <th>Partición</th>\n",
       "      <th>Accuracy(training)</th>\n",
       "      <th>Accuracy(validation)</th>\n",
       "      <th>ROC AUC(train)</th>\n",
       "      <th>ROC AUC(val)</th>\n",
       "    </tr>\n",
       "  </thead>\n",
       "  <tbody>\n",
       "    <tr>\n",
       "      <th>0</th>\n",
       "      <td>1</td>\n",
       "      <td>0.783862</td>\n",
       "      <td>0.659091</td>\n",
       "      <td>0.785980</td>\n",
       "      <td>0.660417</td>\n",
       "    </tr>\n",
       "    <tr>\n",
       "      <th>1</th>\n",
       "      <td>2</td>\n",
       "      <td>0.813218</td>\n",
       "      <td>0.758621</td>\n",
       "      <td>0.801587</td>\n",
       "      <td>0.752394</td>\n",
       "    </tr>\n",
       "    <tr>\n",
       "      <th>2</th>\n",
       "      <td>3</td>\n",
       "      <td>0.830460</td>\n",
       "      <td>0.597701</td>\n",
       "      <td>0.820954</td>\n",
       "      <td>0.588564</td>\n",
       "    </tr>\n",
       "    <tr>\n",
       "      <th>3</th>\n",
       "      <td>4</td>\n",
       "      <td>0.844828</td>\n",
       "      <td>0.597701</td>\n",
       "      <td>0.841170</td>\n",
       "      <td>0.592287</td>\n",
       "    </tr>\n",
       "    <tr>\n",
       "      <th>4</th>\n",
       "      <td>5</td>\n",
       "      <td>0.828080</td>\n",
       "      <td>0.639535</td>\n",
       "      <td>0.823049</td>\n",
       "      <td>0.630933</td>\n",
       "    </tr>\n",
       "  </tbody>\n",
       "</table>\n",
       "</div>"
      ],
      "text/plain": [
       "   Partición  Accuracy(training)  Accuracy(validation)  ROC AUC(train)  \\\n",
       "0          1            0.783862              0.659091        0.785980   \n",
       "1          2            0.813218              0.758621        0.801587   \n",
       "2          3            0.830460              0.597701        0.820954   \n",
       "3          4            0.844828              0.597701        0.841170   \n",
       "4          5            0.828080              0.639535        0.823049   \n",
       "\n",
       "   ROC AUC(val)  \n",
       "0      0.660417  \n",
       "1      0.752394  \n",
       "2      0.588564  \n",
       "3      0.592287  \n",
       "4      0.630933  "
      ]
     },
     "metadata": {},
     "output_type": "display_data"
    }
   ],
   "source": [
    "tabla_prec = pd.DataFrame({ 'Partición' : np.arange(1,6),'Accuracy(training)' :acc_train,\n",
    "                          'Accuracy(validation)' : acc_val,\n",
    "                          'ROC AUC(train)' : ROC_AUC_train,\n",
    "                          'ROC AUC(val)' : ROC_AUC_val})\n",
    "display(tabla_prec)  "
   ]
  },
  {
   "cell_type": "markdown",
   "metadata": {},
   "source": [
    "# Arboles combinaciones"
   ]
  },
  {
   "cell_type": "code",
   "execution_count": 6,
   "metadata": {},
   "outputs": [],
   "source": [
    "def accu(alturas,criterio):\n",
    "    acc_train_2=[]\n",
    "    acc_val_2=[]\n",
    "\n",
    "\n",
    "\n",
    "    kfold = StratifiedKFold(n_splits=5)\n",
    "    kfold.get_n_splits(X_desarrollo,y_desarrollo)\n",
    "    #este for itera sobre los k folds en cada loop tego un set de datos y otro de validacion\n",
    "    for train, test  in kfold.split(X_desarrollo,y_desarrollo):\n",
    "        #print(\"TRAIN:\", train_index,'\\n', \"TEST:\", test_index,'\\n' )\n",
    "        X_train, X_val = X_desarrollo.iloc[train], X_desarrollo.iloc[test]\n",
    "        y_train, y_val = y_desarrollo_np[train], y_desarrollo_np[test]\n",
    "        #intancio el arbol que voy a entrenar en cada fold\n",
    "        arbol = DecisionTreeClassifier(max_depth=alturas, criterion=criterio)\n",
    "\n",
    "        arbol.fit(X_train, y_train.astype(int))\n",
    "        acc_train_2.append(arbol.score(X=X_train, y=y_train))\n",
    "        acc_val_2.append(arbol.score(X=X_val, y=y_val))\n",
    "    return (np.mean(acc_train_2),np.mean(acc_val_2))\n",
    "\n",
    "        "
   ]
  },
  {
   "cell_type": "code",
   "execution_count": 7,
   "metadata": {},
   "outputs": [],
   "source": [
    "acc_train_2=[]\n",
    "acc_val_2=[]\n",
    "altura=[]\n",
    "alt={3:'3',5:'5',None:'Infinito'}\n",
    "alturas = [3,5,None]\n",
    "corte = []\n",
    "for alturas in alturas:\n",
    "    criterio =['gini','entropy']\n",
    "    for criterio in criterio:\n",
    "        acc_train_2.append(accu(alturas,criterio)[0])\n",
    "        \n",
    "        acc_val_2.append(accu(alturas,criterio)[1])\n",
    "        altura.append(alt[alturas])\n",
    "        corte.append(criterio)"
   ]
  },
  {
   "cell_type": "markdown",
   "metadata": {},
   "source": [
    "# Tabla con combinaciones"
   ]
  },
  {
   "cell_type": "code",
   "execution_count": 8,
   "metadata": {},
   "outputs": [
    {
     "data": {
      "text/html": [
       "<div>\n",
       "<style scoped>\n",
       "    .dataframe tbody tr th:only-of-type {\n",
       "        vertical-align: middle;\n",
       "    }\n",
       "\n",
       "    .dataframe tbody tr th {\n",
       "        vertical-align: top;\n",
       "    }\n",
       "\n",
       "    .dataframe thead th {\n",
       "        text-align: right;\n",
       "    }\n",
       "</style>\n",
       "<table border=\"1\" class=\"dataframe\">\n",
       "  <thead>\n",
       "    <tr style=\"text-align: right;\">\n",
       "      <th></th>\n",
       "      <th>Altura Máxima</th>\n",
       "      <th>Criterio de evaluación de corte</th>\n",
       "      <th>Accuracy(training)</th>\n",
       "      <th>Accuracy(validation)</th>\n",
       "    </tr>\n",
       "  </thead>\n",
       "  <tbody>\n",
       "    <tr>\n",
       "      <th>0</th>\n",
       "      <td>3</td>\n",
       "      <td>gini</td>\n",
       "      <td>0.820090</td>\n",
       "      <td>0.655127</td>\n",
       "    </tr>\n",
       "    <tr>\n",
       "      <th>2</th>\n",
       "      <td>5</td>\n",
       "      <td>gini</td>\n",
       "      <td>0.930453</td>\n",
       "      <td>0.654997</td>\n",
       "    </tr>\n",
       "    <tr>\n",
       "      <th>4</th>\n",
       "      <td>Infinito</td>\n",
       "      <td>gini</td>\n",
       "      <td>1.000000</td>\n",
       "      <td>0.652776</td>\n",
       "    </tr>\n",
       "    <tr>\n",
       "      <th>1</th>\n",
       "      <td>3</td>\n",
       "      <td>entropy</td>\n",
       "      <td>0.791947</td>\n",
       "      <td>0.682955</td>\n",
       "    </tr>\n",
       "    <tr>\n",
       "      <th>3</th>\n",
       "      <td>5</td>\n",
       "      <td>entropy</td>\n",
       "      <td>0.917243</td>\n",
       "      <td>0.692307</td>\n",
       "    </tr>\n",
       "    <tr>\n",
       "      <th>5</th>\n",
       "      <td>Infinito</td>\n",
       "      <td>entropy</td>\n",
       "      <td>1.000000</td>\n",
       "      <td>0.689902</td>\n",
       "    </tr>\n",
       "  </tbody>\n",
       "</table>\n",
       "</div>"
      ],
      "text/plain": [
       "  Altura Máxima Criterio de evaluación de corte  Accuracy(training)  \\\n",
       "0             3                            gini            0.820090   \n",
       "2             5                            gini            0.930453   \n",
       "4      Infinito                            gini            1.000000   \n",
       "1             3                         entropy            0.791947   \n",
       "3             5                         entropy            0.917243   \n",
       "5      Infinito                         entropy            1.000000   \n",
       "\n",
       "   Accuracy(validation)  \n",
       "0              0.655127  \n",
       "2              0.654997  \n",
       "4              0.652776  \n",
       "1              0.682955  \n",
       "3              0.692307  \n",
       "5              0.689902  "
      ]
     },
     "execution_count": 8,
     "metadata": {},
     "output_type": "execute_result"
    }
   ],
   "source": [
    "tabla_comb = pd.DataFrame({ 'Altura Máxima' : altura,\n",
    "                          'Criterio de evaluación de corte' : corte,\n",
    "                          'Accuracy(training)' : acc_train_2,\n",
    "                          'Accuracy(validation)' : acc_val_2})\n",
    "tabla_comb.sort_values(by=['Criterio de evaluación de corte'],ascending=False)"
   ]
  },
  {
   "cell_type": "code",
   "execution_count": null,
   "metadata": {},
   "outputs": [],
   "source": []
  }
 ],
 "metadata": {
  "kernelspec": {
   "display_name": "Python 3",
   "language": "python",
   "name": "python3"
  },
  "language_info": {
   "codemirror_mode": {
    "name": "ipython",
    "version": 3
   },
   "file_extension": ".py",
   "mimetype": "text/x-python",
   "name": "python",
   "nbconvert_exporter": "python",
   "pygments_lexer": "ipython3",
   "version": "3.7.0"
  }
 },
 "nbformat": 4,
 "nbformat_minor": 2
}
